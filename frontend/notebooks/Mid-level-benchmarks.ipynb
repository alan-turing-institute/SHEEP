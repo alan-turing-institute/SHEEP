{
 "cells": [
  {
   "cell_type": "markdown",
   "metadata": {},
   "source": [
    "# Mid-level benchmarks\n",
    "\n",
    "The \"mid-level\" benchmarks are circuits that perform a simple operation, that could potentially be a building block of a real-life application.\n",
    "We look at three examples here, and illustrate how we can visualize the results."
   ]
  },
  {
   "cell_type": "markdown",
   "metadata": {},
   "source": [
    "# 1) Private Information Retrieval (PIR)\n",
    "\n",
    "One application of HE is to retrieve a data point from a database held elsewhere, without the database holder knowing which point is being requested. If Alice wants to query Bob's database, she simply encrypts an array full of zeros, except for a \"1\" in the position of the desired data point, and sends this ciphertext to Bob. He then performs homomorphic multiplication and addition, and sends the ciphertext back to Alice, who decrypts it to retrieve the data point she requested.\n",
    "\n",
    "To demonstrate this on a very small scale, lets look at a \"database\" containing only two values: 123 and 456:"
   ]
  },
  {
   "cell_type": "code",
   "execution_count": 1,
   "metadata": {},
   "outputs": [],
   "source": [
    "import os\n",
    "import sys\n",
    "if \"SHEEP_HOME\" in os.environ.keys():\n",
    "  SHEEP_HOME = os.environ[\"SHEEP_HOME\"]\n",
    "  sys.path.append(SHEEP_HOME)\n",
    "else:\n",
    "  print(\"Please set SHEEP_HOME environment variable to point to location of SHEEP/frontend\")\n",
    "\n",
    "## tabulating and plotting benchmark results\n",
    "import pandas as pd\n",
    "import matplotlib.pyplot as plt\n",
    "from pysheep.database import session, BenchmarkMeasurement, Timing\n",
    "\n",
    "from pysheep.mid_level_benchmarks import generate_pir_circuit, \\\n",
    "    generate_variance_circuit, generate_bitonic_sort_circuit, generate_gaussian_inputs\n",
    "from pysheep import benchmark_utils\n",
    "from pysheep import common_utils\n",
    "from pysheep import sheep_client"
   ]
  },
  {
   "cell_type": "markdown",
   "metadata": {},
   "source": [
    "First lets setup the SHEEP client (assuming the SHEEP server is running).  We can choose the \"HElib_Fp\" context, and the input type to be 8-bit integers."
   ]
  },
  {
   "cell_type": "code",
   "execution_count": 2,
   "metadata": {},
   "outputs": [
    {
     "data": {
      "text/plain": [
       "{'content': '', 'status_code': 200}"
      ]
     },
     "execution_count": 2,
     "metadata": {},
     "output_type": "execute_result"
    }
   ],
   "source": [
    "sheep_client.new_job() \n",
    "sheep_client.set_context(\"HElib_Fp\")\n",
    "sheep_client.set_input_type(\"int16_t\")"
   ]
  },
  {
   "cell_type": "markdown",
   "metadata": {},
   "source": [
    "Now let's generate the circuit file for this simple PIR case with two values in the \"database\":"
   ]
  },
  {
   "cell_type": "code",
   "execution_count": 3,
   "metadata": {},
   "outputs": [],
   "source": [
    "circuit_file=generate_pir_circuit(2,[2])"
   ]
  },
  {
   "cell_type": "markdown",
   "metadata": {},
   "source": [
    "Lets give this to the SHEEP server, and then see what inputs it expects?"
   ]
  },
  {
   "cell_type": "code",
   "execution_count": 4,
   "metadata": {},
   "outputs": [
    {
     "data": {
      "text/plain": [
       "{'content': ['d_0_0_0', 'd_0_1_0', 's_0_0', 's_0_1'], 'status_code': 200}"
      ]
     },
     "execution_count": 4,
     "metadata": {},
     "output_type": "execute_result"
    }
   ],
   "source": [
    "sheep_client.set_circuit(circuit_file)\n",
    "sheep_client.get_inputs()"
   ]
  },
  {
   "cell_type": "markdown",
   "metadata": {},
   "source": [
    "\"d_a_b_c\" are the \"database\" values, and \"s_x_y\" are the \"selector\" values.  We can set d_0_0_0 and d_0_1_0 to \"123\" and \"456\" respectively.  Then, to select d_0_0_0 (which will hopefully be the value \"123\") from the database, we should set s_0_0 to 1 and s_0_1 to zero."
   ]
  },
  {
   "cell_type": "code",
   "execution_count": 5,
   "metadata": {},
   "outputs": [
    {
     "data": {
      "text/plain": [
       "{'content': '', 'status_code': 200}"
      ]
     },
     "execution_count": 5,
     "metadata": {},
     "output_type": "execute_result"
    }
   ],
   "source": [
    "sheep_client.set_inputs({\"d_0_0_0\": [123], \"d_0_1_0\": [456], \"s_0_0\": [1], \"s_0_1\": [0]})"
   ]
  },
  {
   "cell_type": "code",
   "execution_count": 6,
   "metadata": {},
   "outputs": [
    {
     "data": {
      "text/plain": [
       "{'content': {'cleartext check': {'is_correct': True},\n",
       "  'outputs': {'e_0_0': ['123']},\n",
       "  'timings': {'c_0_0_0': '1315.700000',\n",
       "   'c_0_1_0': '1261.100000',\n",
       "   'decryption': '558.000000',\n",
       "   'e_0_0': '66.000000',\n",
       "   'encryption': '3677.500000',\n",
       "   'evaluation': '2853.100000'}},\n",
       " 'status_code': 200}"
      ]
     },
     "execution_count": 6,
     "metadata": {},
     "output_type": "execute_result"
    }
   ],
   "source": [
    "sheep_client.run_job()\n",
    "results = sheep_client.get_results()\n",
    "results"
   ]
  },
  {
   "cell_type": "markdown",
   "metadata": {},
   "source": [
    "So we successfully got the output value \"123\", i.e. the first entry in the \"database\"."
   ]
  },
  {
   "cell_type": "markdown",
   "metadata": {},
   "source": [
    "## PIR with a more complex circuit"
   ]
  },
  {
   "cell_type": "code",
   "execution_count": 7,
   "metadata": {},
   "outputs": [
    {
     "data": {
      "text/plain": [
       "{'content': '', 'status_code': 200}"
      ]
     },
     "execution_count": 7,
     "metadata": {},
     "output_type": "execute_result"
    }
   ],
   "source": [
    "sheep_client.new_job()\n",
    "sheep_client.set_input_type(\"int16_t\")\n",
    "sheep_client.set_context(\"HElib_Fp\")"
   ]
  },
  {
   "cell_type": "markdown",
   "metadata": {},
   "source": [
    "Assuming we will normally want to query a database containing N>2 items, one might think that we need to encrypt and send N \"s\"-values to identify the data point that we want.  However, we can be smarter than that by using a binary tree structure for the data, and having the \"s\"-values dictate how we navigate the tree to locate the desired data point. "
   ]
  },
  {
   "cell_type": "markdown",
   "metadata": {},
   "source": [
    "Lets generate a circuit file corresponding to a database containing 32 values, arranged in a tree with 5 layers and 2 choices per layer ($2^5 = 32$)."
   ]
  },
  {
   "cell_type": "code",
   "execution_count": 8,
   "metadata": {},
   "outputs": [
    {
     "data": {
      "text/plain": [
       "'/frontend/benchmark_inputs/mid_level/circuits/circuit-pir-32_2_2_2_2_2.sheep'"
      ]
     },
     "execution_count": 8,
     "metadata": {},
     "output_type": "execute_result"
    }
   ],
   "source": [
    "circuit_file=generate_pir_circuit(32,[2,2,2,2,2])\n",
    "circuit_file"
   ]
  },
  {
   "cell_type": "markdown",
   "metadata": {},
   "source": [
    "Let's now fill this database with values 0-to-31:"
   ]
  },
  {
   "cell_type": "code",
   "execution_count": 9,
   "metadata": {},
   "outputs": [],
   "source": [
    "sheep_client.set_circuit(circuit_file)\n",
    "inputlist=sheep_client.get_inputs()['content']\n",
    "data = [(x, [i]) for (i, x) in enumerate(inputlist) if x.startswith('d_')]"
   ]
  },
  {
   "cell_type": "markdown",
   "metadata": {},
   "source": [
    "To start with, we'll set all the \"s\" (selector) inputs to zero:"
   ]
  },
  {
   "cell_type": "code",
   "execution_count": 10,
   "metadata": {},
   "outputs": [],
   "source": [
    "data += [(x, [0]) for (i, x) in enumerate(inputlist) if x.startswith('s_')]\n",
    "data = dict(data)"
   ]
  },
  {
   "cell_type": "markdown",
   "metadata": {},
   "source": [
    "Now we need to set certain selector variables to \"1\" to navigate down the tree.  Suppose we want to choose the last element of the database (should be value \"31\") - we need to go down the right-hand branches:"
   ]
  },
  {
   "cell_type": "code",
   "execution_count": 11,
   "metadata": {},
   "outputs": [],
   "source": [
    "data['s_0_1'] = [1]\n",
    "data['s_1_1'] = [1]\n",
    "data['s_2_1'] = [1]\n",
    "data['s_3_1'] = [1]\n",
    "data['s_4_1'] = [1]"
   ]
  },
  {
   "cell_type": "code",
   "execution_count": 12,
   "metadata": {},
   "outputs": [
    {
     "data": {
      "text/plain": [
       "{'content': '', 'status_code': 200}"
      ]
     },
     "execution_count": 12,
     "metadata": {},
     "output_type": "execute_result"
    }
   ],
   "source": [
    "sheep_client.set_inputs(data)\n",
    "sheep_client.set_timeout(120)\n",
    "sheep_client.set_parameters({\"Levels\": 30})"
   ]
  },
  {
   "cell_type": "code",
   "execution_count": 13,
   "metadata": {},
   "outputs": [
    {
     "data": {
      "text/plain": [
       "{'content': '', 'status_code': 200}"
      ]
     },
     "execution_count": 13,
     "metadata": {},
     "output_type": "execute_result"
    }
   ],
   "source": [
    "sheep_client.run_job()"
   ]
  },
  {
   "cell_type": "code",
   "execution_count": 20,
   "metadata": {},
   "outputs": [
    {
     "data": {
      "text/plain": [
       "{'content': {'cleartext check': {'is_correct': False},\n",
       "  'outputs': {'e_4_0': ['19519']},\n",
       "  'timings': {'c_0_0_0': '6116.600000',\n",
       "   'c_0_0_1': '5213.100000',\n",
       "   'c_0_0_10': '5349.300000',\n",
       "   'c_0_0_11': '5282.600000',\n",
       "   'c_0_0_12': '5222.100000',\n",
       "   'c_0_0_13': '5344.800000',\n",
       "   'c_0_0_14': '5368.300000',\n",
       "   'c_0_0_15': '5172.800000',\n",
       "   'c_0_0_2': '5266.400000',\n",
       "   'c_0_0_3': '5279.900000',\n",
       "   'c_0_0_4': '5247.000000',\n",
       "   'c_0_0_5': '5283.700000',\n",
       "   'c_0_0_6': '5203.200000',\n",
       "   'c_0_0_7': '5274.500000',\n",
       "   'c_0_0_8': '5240.300000',\n",
       "   'c_0_0_9': '5279.000000',\n",
       "   'c_0_1_0': '5178.100000',\n",
       "   'c_0_1_1': '5272.900000',\n",
       "   'c_0_1_10': '5283.500000',\n",
       "   'c_0_1_11': '5217.900000',\n",
       "   'c_0_1_12': '5257.300000',\n",
       "   'c_0_1_13': '5255.600000',\n",
       "   'c_0_1_14': '5271.800000',\n",
       "   'c_0_1_15': '5375.600000',\n",
       "   'c_0_1_2': '5200.000000',\n",
       "   'c_0_1_3': '5214.600000',\n",
       "   'c_0_1_4': '5247.400000',\n",
       "   'c_0_1_5': '5214.300000',\n",
       "   'c_0_1_6': '5275.800000',\n",
       "   'c_0_1_7': '5209.800000',\n",
       "   'c_0_1_8': '5265.900000',\n",
       "   'c_0_1_9': '5274.400000',\n",
       "   'c_1_0_0': '5524.300000',\n",
       "   'c_1_0_1': '5285.900000',\n",
       "   'c_1_0_2': '5295.000000',\n",
       "   'c_1_0_3': '5287.700000',\n",
       "   'c_1_0_4': '5242.600000',\n",
       "   'c_1_0_5': '5443.300000',\n",
       "   'c_1_0_6': '5273.300000',\n",
       "   'c_1_0_7': '5229.000000',\n",
       "   'c_1_1_0': '5333.700000',\n",
       "   'c_1_1_1': '5466.400000',\n",
       "   'c_1_1_2': '5264.800000',\n",
       "   'c_1_1_3': '5223.500000',\n",
       "   'c_1_1_4': '5241.600000',\n",
       "   'c_1_1_5': '5124.800000',\n",
       "   'c_1_1_6': '5168.300000',\n",
       "   'c_1_1_7': '5137.000000',\n",
       "   'c_2_0_0': '5383.700000',\n",
       "   'c_2_0_1': '5224.400000',\n",
       "   'c_2_0_2': '5436.100000',\n",
       "   'c_2_0_3': '5210.700000',\n",
       "   'c_2_1_0': '5217.100000',\n",
       "   'c_2_1_1': '5299.900000',\n",
       "   'c_2_1_2': '5238.200000',\n",
       "   'c_2_1_3': '5277.600000',\n",
       "   'c_3_0_0': '5375.900000',\n",
       "   'c_3_0_1': '5318.400000',\n",
       "   'c_3_1_0': '5240.200000',\n",
       "   'c_3_1_1': '8985.400000',\n",
       "   'c_4_0_0': '5185.600000',\n",
       "   'c_4_1_0': '5242.500000',\n",
       "   'd_1_0_0': '18.600000',\n",
       "   'd_1_0_1': '18.500000',\n",
       "   'd_1_0_2': '18.300000',\n",
       "   'd_1_0_3': '18.500000',\n",
       "   'd_1_0_4': '18.300000',\n",
       "   'd_1_0_5': '53.000000',\n",
       "   'd_1_0_6': '53.700000',\n",
       "   'd_1_0_7': '53.100000',\n",
       "   'd_1_1_0': '53.200000',\n",
       "   'd_1_1_1': '53.200000',\n",
       "   'd_1_1_2': '53.200000',\n",
       "   'd_1_1_3': '55.000000',\n",
       "   'd_1_1_4': '52.500000',\n",
       "   'd_1_1_5': '54.300000',\n",
       "   'd_1_1_6': '53.300000',\n",
       "   'd_1_1_7': '52.700000',\n",
       "   'd_2_0_0': '16.300000',\n",
       "   'd_2_0_1': '14.100000',\n",
       "   'd_2_0_2': '16.600000',\n",
       "   'd_2_0_3': '18.400000',\n",
       "   'd_2_1_0': '18.500000',\n",
       "   'd_2_1_1': '52.800000',\n",
       "   'd_2_1_2': '52.700000',\n",
       "   'd_2_1_3': '53.100000',\n",
       "   'd_3_0_0': '18.700000',\n",
       "   'd_3_0_1': '18.400000',\n",
       "   'd_3_1_0': '18.300000',\n",
       "   'd_3_1_1': '18.400000',\n",
       "   'd_4_0_0': '18.400000',\n",
       "   'd_4_1_0': '18.400000',\n",
       "   'decryption': '586.300000',\n",
       "   'e_0_0': '130.700000',\n",
       "   'e_0_1': '90.300000',\n",
       "   'e_0_10': '94.800000',\n",
       "   'e_0_11': '86.400000',\n",
       "   'e_0_12': '85.000000',\n",
       "   'e_0_13': '84.900000',\n",
       "   'e_0_14': '86.000000',\n",
       "   'e_0_15': '84.600000',\n",
       "   'e_0_2': '89.600000',\n",
       "   'e_0_3': '89.800000',\n",
       "   'e_0_4': '89.300000',\n",
       "   'e_0_5': '89.200000',\n",
       "   'e_0_6': '89.000000',\n",
       "   'e_0_7': '95.000000',\n",
       "   'e_0_8': '92.700000',\n",
       "   'e_0_9': '85.600000',\n",
       "   'e_1_0': '124.500000',\n",
       "   'e_1_1': '86.500000',\n",
       "   'e_1_2': '85.800000',\n",
       "   'e_1_3': '86.400000',\n",
       "   'e_1_4': '85.600000',\n",
       "   'e_1_5': '150.300000',\n",
       "   'e_1_6': '87.000000',\n",
       "   'e_1_7': '86.300000',\n",
       "   'e_2_0': '121.400000',\n",
       "   'e_2_1': '85.300000',\n",
       "   'e_2_2': '85.800000',\n",
       "   'e_2_3': '85.800000',\n",
       "   'e_3_0': '134.000000',\n",
       "   'e_3_1': '88.800000',\n",
       "   'e_4_0': '121.700000',\n",
       "   'encryption': '40406.800000',\n",
       "   'evaluation': '341525.100000'}},\n",
       " 'status_code': 200}"
      ]
     },
     "execution_count": 20,
     "metadata": {},
     "output_type": "execute_result"
    }
   ],
   "source": [
    "results = sheep_client.get_results()\n",
    "results"
   ]
  },
  {
   "cell_type": "markdown",
   "metadata": {},
   "source": [
    "So we can see that we correctly selected the value '31'.\n",
    "\n",
    "Now lets upload this result to the database, and repeat using SEAL_BFV.\n"
   ]
  },
  {
   "cell_type": "code",
   "execution_count": 15,
   "metadata": {},
   "outputs": [
    {
     "data": {
      "text/plain": [
       "True"
      ]
     },
     "execution_count": 15,
     "metadata": {},
     "output_type": "execute_result"
    }
   ],
   "source": [
    "benchmark_utils.upload_results(\"PIR_32_2\")"
   ]
  },
  {
   "cell_type": "code",
   "execution_count": 16,
   "metadata": {},
   "outputs": [
    {
     "data": {
      "text/plain": [
       "{'content': '', 'status_code': 200}"
      ]
     },
     "execution_count": 16,
     "metadata": {},
     "output_type": "execute_result"
    }
   ],
   "source": [
    "sheep_client.new_job()\n",
    "sheep_client.set_context(\"SEAL_BFV\")\n",
    "sheep_client.set_input_type(\"int16_t\")\n",
    "sheep_client.set_circuit(circuit_file)\n",
    "sheep_client.set_inputs(data)\n",
    "sheep_client.set_timeout(120)\n",
    "sheep_client.run_job()"
   ]
  },
  {
   "cell_type": "code",
   "execution_count": 17,
   "metadata": {},
   "outputs": [
    {
     "data": {
      "text/plain": [
       "True"
      ]
     },
     "execution_count": 17,
     "metadata": {},
     "output_type": "execute_result"
    }
   ],
   "source": [
    "benchmark_utils.upload_results(\"PIR_32_2\")"
   ]
  },
  {
   "cell_type": "markdown",
   "metadata": {},
   "source": [
    "### Plotting the results\n",
    "\n",
    "We now have the benchmark results in the \"benchmarks\" table of the SQLite database.  We can query this, and see how long HElib and SEAL_BFV spent on each operation while processing this circuit."
   ]
  },
  {
   "cell_type": "code",
   "execution_count": 18,
   "metadata": {},
   "outputs": [
    {
     "data": {
      "text/html": [
       "<div>\n",
       "<style scoped>\n",
       "    .dataframe tbody tr th:only-of-type {\n",
       "        vertical-align: middle;\n",
       "    }\n",
       "\n",
       "    .dataframe tbody tr th {\n",
       "        vertical-align: top;\n",
       "    }\n",
       "\n",
       "    .dataframe thead th {\n",
       "        text-align: right;\n",
       "    }\n",
       "</style>\n",
       "<table border=\"1\" class=\"dataframe\">\n",
       "  <thead>\n",
       "    <tr style=\"text-align: right;\">\n",
       "      <th></th>\n",
       "      <th>Context</th>\n",
       "      <th>Gate</th>\n",
       "      <th>Time</th>\n",
       "    </tr>\n",
       "  </thead>\n",
       "  <tbody>\n",
       "    <tr>\n",
       "      <th>0</th>\n",
       "      <td>HElib_Fp</td>\n",
       "      <td>MULTIPLY</td>\n",
       "      <td>246666.0</td>\n",
       "    </tr>\n",
       "    <tr>\n",
       "      <th>1</th>\n",
       "      <td>HElib_Fp</td>\n",
       "      <td>ALIAS</td>\n",
       "      <td>3043.2</td>\n",
       "    </tr>\n",
       "    <tr>\n",
       "      <th>2</th>\n",
       "      <td>HElib_Fp</td>\n",
       "      <td>ADD</td>\n",
       "      <td>6248.5</td>\n",
       "    </tr>\n",
       "    <tr>\n",
       "      <th>3</th>\n",
       "      <td>SEAL_BFV</td>\n",
       "      <td>MULTIPLY</td>\n",
       "      <td>331335.4</td>\n",
       "    </tr>\n",
       "    <tr>\n",
       "      <th>4</th>\n",
       "      <td>SEAL_BFV</td>\n",
       "      <td>ALIAS</td>\n",
       "      <td>1032.5</td>\n",
       "    </tr>\n",
       "    <tr>\n",
       "      <th>5</th>\n",
       "      <td>SEAL_BFV</td>\n",
       "      <td>ADD</td>\n",
       "      <td>2978.1</td>\n",
       "    </tr>\n",
       "  </tbody>\n",
       "</table>\n",
       "</div>"
      ],
      "text/plain": [
       "    Context      Gate      Time\n",
       "0  HElib_Fp  MULTIPLY  246666.0\n",
       "1  HElib_Fp     ALIAS    3043.2\n",
       "2  HElib_Fp       ADD    6248.5\n",
       "3      SEAL_BFV  MULTIPLY  331335.4\n",
       "4      SEAL_BFV     ALIAS    1032.5\n",
       "5      SEAL_BFV       ADD    2978.1"
      ]
     },
     "execution_count": 18,
     "metadata": {},
     "output_type": "execute_result"
    }
   ],
   "source": [
    "circuit = sheep_client.get_circuit()[\"content\"][\"circuit\"]\n",
    "rows = session.query(BenchmarkMeasurement).filter_by(circuit_name=\"PIR_32_2\").all()\n",
    "df_dict = {\"Context\": [], \"Gate\": [], \"Time\": []}\n",
    "for row in rows:\n",
    "    timingdict = benchmark_utils.timing_per_gate_type(row.timings, circuit)\n",
    "    for k,v in timingdict.items():\n",
    "        df_dict[\"Context\"].append(row.context)\n",
    "        df_dict[\"Gate\"].append(k)\n",
    "        df_dict[\"Time\"].append(v)\n",
    "df = pd.DataFrame(df_dict)\n",
    "df"
   ]
  },
  {
   "cell_type": "code",
   "execution_count": 19,
   "metadata": {},
   "outputs": [
    {
     "data": {
      "text/plain": [
       "<matplotlib.axes._subplots.AxesSubplot at 0x7f48cf1278d0>"
      ]
     },
     "execution_count": 19,
     "metadata": {},
     "output_type": "execute_result"
    },
    {
     "data": {
      "image/png": "[encoded data removed]",
      "text/plain": [
       "<Figure size 432x288 with 1 Axes>"
      ]
     },
     "metadata": {},
     "output_type": "display_data"
    }
   ],
   "source": [
    "pivot_df = df.pivot(index='Context', columns='Gate', values='Time')\n",
    "pivot_df.plot(kind='bar',stacked=True)"
   ]
  },
  {
   "cell_type": "markdown",
   "metadata": {},
   "source": [
    "We can see that \"MULTIPLY\" is the most time-consuming operation, and SEAL_BFV is slightly slower than HElib."
   ]
  },
  {
   "cell_type": "markdown",
   "metadata": {},
   "source": [
    "# 2) Calculating mean and variance of a set of inputs\n",
    "\n",
    "One may wish to calculate statistical properties of a set of encrypted inputs, such as mean, standard deviation etc.   Currently the contexts implemented in SHEEP do not have \"Divide\" operations, so calculating these exact values via only homomorphic operations on the ciphertext is not possible.  \n",
    "\n",
    "However, the client will necessarily know \"N\", the number of inputs, so can perform division in the clear on the decrypted results of the homomorphic calculations.\n",
    "\n",
    "We therefore only need homomorphic addition and multiplication.  Simply summing the inputs $x_i$ gives us $N\\bar{x}$. \n",
    "Meanwhile $\\Sigma_{i=0}^N(Nx_i - N\\bar{x})^2$  is $N^3$ times the variance.\n",
    "\n"
   ]
  },
  {
   "cell_type": "code",
   "execution_count": 23,
   "metadata": {},
   "outputs": [
    {
     "data": {
      "text/plain": [
       "{'content': '', 'status_code': 200}"
      ]
     },
     "execution_count": 23,
     "metadata": {},
     "output_type": "execute_result"
    }
   ],
   "source": [
    "# reset the sheep server settings, - this time we'll use uint32_t and SEAL_BFV\n",
    "sheep_client.new_job()\n",
    "sheep_client.set_input_type(\"uint32_t\")\n",
    "sheep_client.set_context(\"SEAL_BFV\")"
   ]
  },
  {
   "cell_type": "markdown",
   "metadata": {},
   "source": [
    "Let's generate a circuit to calculate $(N \\times mean)$ and ($N^3 \\times variance)$ of a set of 10 inputs:"
   ]
  },
  {
   "cell_type": "code",
   "execution_count": 24,
   "metadata": {},
   "outputs": [
    {
     "name": "stdout",
     "output_type": "stream",
     "text": [
      "CONST_INPUTS N\n",
      "INPUTS x_0 x_1 x_2 x_3 x_4 x_5 x_6 x_7 x_8 x_9\n",
      "OUTPUTS Nxbar varianceN3\n",
      " x_0 x_1 ADD y_0\n",
      " y_0 x_2 ADD y_1\n",
      " y_1 x_3 ADD y_2\n",
      " y_2 x_4 ADD y_3\n",
      " y_3 x_5 ADD y_4\n",
      " y_4 x_6 ADD y_5\n",
      " y_5 x_7 ADD y_6\n",
      " y_6 x_8 ADD y_7\n",
      " y_7 x_9 ADD y_8\n",
      " y_8 ALIAS Nxbar\n",
      " x_0 N MULTBYCONST Nx_0\n",
      " Nxbar Nx_0 SUBTRACT v_0\n",
      " v_0 ALIAS vv_0\n",
      " v_0 vv_0 MULTIPLY s_0\n",
      " x_1 N MULTBYCONST Nx_1\n",
      " Nxbar Nx_1 SUBTRACT v_1\n",
      " v_1 ALIAS vv_1\n",
      " v_1 vv_1 MULTIPLY s_1\n",
      " x_2 N MULTBYCONST Nx_2\n",
      " Nxbar Nx_2 SUBTRACT v_2\n",
      " v_2 ALIAS vv_2\n",
      " v_2 vv_2 MULTIPLY s_2\n",
      " x_3 N MULTBYCONST Nx_3\n",
      " Nxbar Nx_3 SUBTRACT v_3\n",
      " v_3 ALIAS vv_3\n",
      " v_3 vv_3 MULTIPLY s_3\n",
      " x_4 N MULTBYCONST Nx_4\n",
      " Nxbar Nx_4 SUBTRACT v_4\n",
      " v_4 ALIAS vv_4\n",
      " v_4 vv_4 MULTIPLY s_4\n",
      " x_5 N MULTBYCONST Nx_5\n",
      " Nxbar Nx_5 SUBTRACT v_5\n",
      " v_5 ALIAS vv_5\n",
      " v_5 vv_5 MULTIPLY s_5\n",
      " x_6 N MULTBYCONST Nx_6\n",
      " Nxbar Nx_6 SUBTRACT v_6\n",
      " v_6 ALIAS vv_6\n",
      " v_6 vv_6 MULTIPLY s_6\n",
      " x_7 N MULTBYCONST Nx_7\n",
      " Nxbar Nx_7 SUBTRACT v_7\n",
      " v_7 ALIAS vv_7\n",
      " v_7 vv_7 MULTIPLY s_7\n",
      " x_8 N MULTBYCONST Nx_8\n",
      " Nxbar Nx_8 SUBTRACT v_8\n",
      " v_8 ALIAS vv_8\n",
      " v_8 vv_8 MULTIPLY s_8\n",
      " x_9 N MULTBYCONST Nx_9\n",
      " Nxbar Nx_9 SUBTRACT v_9\n",
      " v_9 ALIAS vv_9\n",
      " v_9 vv_9 MULTIPLY s_9\n",
      " s_0 s_1 ADD ss_0\n",
      " ss_0 s_2 ADD ss_1\n",
      " ss_1 s_3 ADD ss_2\n",
      " ss_2 s_4 ADD ss_3\n",
      " ss_3 s_5 ADD ss_4\n",
      " ss_4 s_6 ADD ss_5\n",
      " ss_5 s_7 ADD ss_6\n",
      " ss_6 s_8 ADD ss_7\n",
      " ss_7 s_9 ADD ss_8\n",
      " ss_8 ALIAS varianceN3\n",
      "\n"
     ]
    }
   ],
   "source": [
    "num_inputs = 10\n",
    "circuit_file = generate_variance_circuit(num_inputs)\n",
    "sheep_client.set_circuit(circuit_file)\n",
    "print(sheep_client.get_circuit()[\"content\"][\"circuit\"])"
   ]
  },
  {
   "cell_type": "markdown",
   "metadata": {},
   "source": [
    "To generate the inputs, lets use a Gaussian with $\\mu=50$ and $\\sigma = 10$ (all input values rounded to integers):"
   ]
  },
  {
   "cell_type": "code",
   "execution_count": 25,
   "metadata": {},
   "outputs": [
    {
     "data": {
      "text/plain": [
       "{'x_0': [41],\n",
       " 'x_1': [62],\n",
       " 'x_2': [73],\n",
       " 'x_3': [53],\n",
       " 'x_4': [52],\n",
       " 'x_5': [54],\n",
       " 'x_6': [45],\n",
       " 'x_7': [41],\n",
       " 'x_8': [16],\n",
       " 'x_9': [52]}"
      ]
     },
     "execution_count": 25,
     "metadata": {},
     "output_type": "execute_result"
    }
   ],
   "source": [
    "input_vals = generate_gaussian_inputs(num_inputs,50,10)\n",
    "input_vals"
   ]
  },
  {
   "cell_type": "code",
   "execution_count": 26,
   "metadata": {},
   "outputs": [
    {
     "data": {
      "text/plain": [
       "{'content': '', 'status_code': 200}"
      ]
     },
     "execution_count": 26,
     "metadata": {},
     "output_type": "execute_result"
    }
   ],
   "source": [
    "sheep_client.set_inputs(input_vals)\n",
    "sheep_client.set_const_inputs({\"N\": 10})"
   ]
  },
  {
   "cell_type": "code",
   "execution_count": 27,
   "metadata": {},
   "outputs": [],
   "source": [
    "sheep_client.run_job()\n",
    "results = sheep_client.get_results()['content']"
   ]
  },
  {
   "cell_type": "code",
   "execution_count": 28,
   "metadata": {},
   "outputs": [
    {
     "data": {
      "text/plain": [
       "{'Nxbar': ['489'], 'varianceN3': ['39846']}"
      ]
     },
     "execution_count": 28,
     "metadata": {},
     "output_type": "execute_result"
    }
   ],
   "source": [
    "results[\"outputs\"]"
   ]
  },
  {
   "cell_type": "markdown",
   "metadata": {},
   "source": [
    "In the clear, we can then divide these by $N$ and $N^3$ respectively:"
   ]
  },
  {
   "cell_type": "code",
   "execution_count": 29,
   "metadata": {},
   "outputs": [
    {
     "name": "stdout",
     "output_type": "stream",
     "text": [
      "48.9 39.846\n"
     ]
    }
   ],
   "source": [
    "print(float(results[\"outputs\"][\"Nxbar\"][0])/num_inputs , float(results[\"outputs\"][\"varianceN3\"][0])/pow(num_inputs,3))"
   ]
  },
  {
   "cell_type": "markdown",
   "metadata": {},
   "source": [
    "# 3) Bitonic sort\n",
    "\n",
    "Sorting a list of inputs is another non-trivial operation that can be performed using a combination of straightforward homomorphic operations - namely \"Select\" and \"Compare\".\n"
   ]
  },
  {
   "cell_type": "code",
   "execution_count": 30,
   "metadata": {},
   "outputs": [
    {
     "data": {
      "text/plain": [
       "{'content': '', 'status_code': 200}"
      ]
     },
     "execution_count": 30,
     "metadata": {},
     "output_type": "execute_result"
    }
   ],
   "source": [
    "sheep_client.new_job()\n",
    "sheep_client.set_input_type(\"int8_t\")\n",
    "sheep_client.set_context(\"HElib_F2\")\n",
    "circuit_file = os.path.join(SHEEP_HOME,\"benchmark_inputs\",\"mid_level\",\"circuits\",\"circuit-bitonic-sort-4.sheep\")\n",
    "sheep_client.set_circuit(circuit_file)"
   ]
  },
  {
   "cell_type": "markdown",
   "metadata": {},
   "source": [
    "What inputs does this circuit expect?"
   ]
  },
  {
   "cell_type": "code",
   "execution_count": 31,
   "metadata": {},
   "outputs": [
    {
     "data": {
      "text/plain": [
       "{'content': ['i0', 'i1', 'i2', 'i3'], 'status_code': 200}"
      ]
     },
     "execution_count": 31,
     "metadata": {},
     "output_type": "execute_result"
    }
   ],
   "source": [
    "sheep_client.get_inputs()"
   ]
  },
  {
   "cell_type": "code",
   "execution_count": 32,
   "metadata": {},
   "outputs": [
    {
     "data": {
      "text/plain": [
       "{'content': '', 'status_code': 200}"
      ]
     },
     "execution_count": 32,
     "metadata": {},
     "output_type": "execute_result"
    }
   ],
   "source": [
    "sheep_client.set_inputs({\"i0\":[4],\"i1\":[8],\"i2\":[1],\"i3\": [3]})"
   ]
  },
  {
   "cell_type": "code",
   "execution_count": 33,
   "metadata": {},
   "outputs": [],
   "source": [
    "sheep_client.set_timeout(120)\n",
    "sheep_client.run_job()\n",
    "results_helib = sheep_client.get_results()['content']"
   ]
  },
  {
   "cell_type": "code",
   "execution_count": 34,
   "metadata": {},
   "outputs": [
    {
     "data": {
      "text/plain": [
       "{'w31': ['1'], 'w32': ['3'], 'w36': ['4'], 'w37': ['8']}"
      ]
     },
     "execution_count": 34,
     "metadata": {},
     "output_type": "execute_result"
    }
   ],
   "source": [
    "results_helib[\"outputs\"]"
   ]
  },
  {
   "cell_type": "markdown",
   "metadata": {},
   "source": [
    "So we can see that we now have the outputs in the correct order.\n",
    "\n",
    "Now lets upload the results to the database and then do the same test with TFHE."
   ]
  },
  {
   "cell_type": "code",
   "execution_count": 35,
   "metadata": {},
   "outputs": [
    {
     "data": {
      "text/plain": [
       "True"
      ]
     },
     "execution_count": 35,
     "metadata": {},
     "output_type": "execute_result"
    }
   ],
   "source": [
    "benchmark_utils.upload_results(\"bitonic_sort_4\")"
   ]
  },
  {
   "cell_type": "code",
   "execution_count": 36,
   "metadata": {},
   "outputs": [
    {
     "data": {
      "text/plain": [
       "{'content': '', 'status_code': 200}"
      ]
     },
     "execution_count": 36,
     "metadata": {},
     "output_type": "execute_result"
    }
   ],
   "source": [
    "sheep_client.new_job()\n",
    "sheep_client.set_timeout(120)\n",
    "sheep_client.set_input_type(\"int8_t\")\n",
    "sheep_client.set_context(\"TFHE\")\n",
    "sheep_client.set_circuit(circuit_file)\n",
    "sheep_client.set_inputs({\"i0\":[4],\"i1\":[8],\"i2\":[1],\"i3\": [3]})\n",
    "sheep_client.run_job()\n"
   ]
  },
  {
   "cell_type": "code",
   "execution_count": 37,
   "metadata": {},
   "outputs": [],
   "source": [
    "results_tfhe = sheep_client.get_results()"
   ]
  },
  {
   "cell_type": "code",
   "execution_count": 38,
   "metadata": {},
   "outputs": [
    {
     "data": {
      "text/plain": [
       "{'content': {'cleartext check': {'is_correct': True},\n",
       "  'outputs': {'w31': ['1'], 'w32': ['3'], 'w36': ['4'], 'w37': ['8']},\n",
       "  'timings': {'decryption': '35.100000',\n",
       "   'encryption': '725.100000',\n",
       "   'evaluation': '9422061.200000',\n",
       "   'w10': '8.700000',\n",
       "   'w11': '8.800000',\n",
       "   'w12': '8.800000',\n",
       "   'w13': '842462.600000',\n",
       "   'w14': '344226.800000',\n",
       "   'w15': '354294.200000',\n",
       "   'w16': '10.500000',\n",
       "   'w17': '8.700000',\n",
       "   'w22': '819884.500000',\n",
       "   'w23': '344459.100000',\n",
       "   'w24': '356507.100000',\n",
       "   'w25': '837959.100000',\n",
       "   'w26': '357210.200000',\n",
       "   'w27': '350711.300000',\n",
       "   'w28': '880318.000000',\n",
       "   'w29': '395189.600000',\n",
       "   'w30': '393269.900000',\n",
       "   'w31': '10.200000',\n",
       "   'w32': '9.100000',\n",
       "   'w33': '884782.300000',\n",
       "   'w34': '353324.700000',\n",
       "   'w35': '377518.800000',\n",
       "   'w36': '10.100000',\n",
       "   'w37': '8.600000',\n",
       "   'w4': '14.700000',\n",
       "   'w5': '8.700000',\n",
       "   'w6': '834593.500000',\n",
       "   'w7': '350644.300000',\n",
       "   'w8': '343545.500000',\n",
       "   'w9': '10.700000'}},\n",
       " 'status_code': 200}"
      ]
     },
     "execution_count": 38,
     "metadata": {},
     "output_type": "execute_result"
    }
   ],
   "source": [
    "results_tfhe"
   ]
  },
  {
   "cell_type": "code",
   "execution_count": 39,
   "metadata": {},
   "outputs": [
    {
     "data": {
      "text/plain": [
       "True"
      ]
     },
     "execution_count": 39,
     "metadata": {},
     "output_type": "execute_result"
    }
   ],
   "source": [
    "benchmark_utils.upload_results(\"bitonic_sort_4\")"
   ]
  },
  {
   "cell_type": "markdown",
   "metadata": {},
   "source": [
    "### Plotting the results\n",
    "\n",
    "Lets compare how TFHE and HElib_F2 did on the 4-element bitonic sort circuit."
   ]
  },
  {
   "cell_type": "code",
   "execution_count": 40,
   "metadata": {},
   "outputs": [
    {
     "data": {
      "text/html": [
       "<div>\n",
       "<style scoped>\n",
       "    .dataframe tbody tr th:only-of-type {\n",
       "        vertical-align: middle;\n",
       "    }\n",
       "\n",
       "    .dataframe tbody tr th {\n",
       "        vertical-align: top;\n",
       "    }\n",
       "\n",
       "    .dataframe thead th {\n",
       "        text-align: right;\n",
       "    }\n",
       "</style>\n",
       "<table border=\"1\" class=\"dataframe\">\n",
       "  <thead>\n",
       "    <tr style=\"text-align: right;\">\n",
       "      <th></th>\n",
       "      <th>Context</th>\n",
       "      <th>Gate</th>\n",
       "      <th>Time</th>\n",
       "    </tr>\n",
       "  </thead>\n",
       "  <tbody>\n",
       "    <tr>\n",
       "      <th>0</th>\n",
       "      <td>HElib_F2</td>\n",
       "      <td>SELECT</td>\n",
       "      <td>841047.6</td>\n",
       "    </tr>\n",
       "    <tr>\n",
       "      <th>1</th>\n",
       "      <td>HElib_F2</td>\n",
       "      <td>COMPARE</td>\n",
       "      <td>44516670.6</td>\n",
       "    </tr>\n",
       "    <tr>\n",
       "      <th>2</th>\n",
       "      <td>HElib_F2</td>\n",
       "      <td>ALIAS</td>\n",
       "      <td>2556.9</td>\n",
       "    </tr>\n",
       "    <tr>\n",
       "      <th>3</th>\n",
       "      <td>TFHE</td>\n",
       "      <td>SELECT</td>\n",
       "      <td>4320901.5</td>\n",
       "    </tr>\n",
       "    <tr>\n",
       "      <th>4</th>\n",
       "      <td>TFHE</td>\n",
       "      <td>COMPARE</td>\n",
       "      <td>5100000.0</td>\n",
       "    </tr>\n",
       "    <tr>\n",
       "      <th>5</th>\n",
       "      <td>TFHE</td>\n",
       "      <td>ALIAS</td>\n",
       "      <td>117.6</td>\n",
       "    </tr>\n",
       "  </tbody>\n",
       "</table>\n",
       "</div>"
      ],
      "text/plain": [
       "    Context     Gate        Time\n",
       "0  HElib_F2   SELECT    841047.6\n",
       "1  HElib_F2  COMPARE  44516670.6\n",
       "2  HElib_F2    ALIAS      2556.9\n",
       "3      TFHE   SELECT   4320901.5\n",
       "4      TFHE  COMPARE   5100000.0\n",
       "5      TFHE    ALIAS       117.6"
      ]
     },
     "execution_count": 40,
     "metadata": {},
     "output_type": "execute_result"
    }
   ],
   "source": [
    "circuit = sheep_client.get_circuit()[\"content\"][\"circuit\"]\n",
    "rows = session.query(BenchmarkMeasurement).filter_by(circuit_name=\"bitonic_sort_4\").all()\n",
    "df_dict = {\"Context\": [], \"Gate\": [], \"Time\": []}\n",
    "for row in rows:\n",
    "    timingdict = benchmark_utils.timing_per_gate_type(row.timings, circuit)\n",
    "    for k,v in timingdict.items():\n",
    "        df_dict[\"Context\"].append(row.context)\n",
    "        df_dict[\"Gate\"].append(k)\n",
    "        df_dict[\"Time\"].append(v)\n",
    "df = pd.DataFrame(df_dict)\n",
    "df"
   ]
  },
  {
   "cell_type": "code",
   "execution_count": 41,
   "metadata": {},
   "outputs": [
    {
     "data": {
      "text/plain": [
       "<matplotlib.axes._subplots.AxesSubplot at 0x7f48cf147a20>"
      ]
     },
     "execution_count": 41,
     "metadata": {},
     "output_type": "execute_result"
    },
    {
     "data": {
      "image/png": "[encoded data removed]",
      "text/plain": [
       "<Figure size 432x288 with 1 Axes>"
      ]
     },
     "metadata": {},
     "output_type": "display_data"
    }
   ],
   "source": [
    "pivot_df = df.pivot(index='Context', columns='Gate', values='Time')\n",
    "pivot_df.plot(kind='bar',stacked=True)"
   ]
  },
  {
   "cell_type": "markdown",
   "metadata": {},
   "source": [
    "So we can see that for this bitonic sort circuit, COMPARE is the most time-consuming operation, and TFHE is substantially faster than HElib_F2."
   ]
  }
 ],
 "metadata": {
  "kernelspec": {
   "display_name": "Python 3",
   "language": "python",
   "name": "python3"
  },
  "language_info": {
   "codemirror_mode": {
    "name": "ipython",
    "version": 3
   },
   "file_extension": ".py",
   "mimetype": "text/x-python",
   "name": "python",
   "nbconvert_exporter": "python",
   "pygments_lexer": "ipython3",
   "version": "3.5.2"
  }
 },
 "nbformat": 4,
 "nbformat_minor": 2
}

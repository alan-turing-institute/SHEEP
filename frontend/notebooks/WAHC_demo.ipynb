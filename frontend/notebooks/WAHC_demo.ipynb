{
 "cells": [
  {
   "cell_type": "markdown",
   "metadata": {
    "slideshow": {
     "slide_type": "slide"
    }
   },
   "source": [
    "# SHEEP: <br> a Homomorphic Encryption Evaluation Platform\n",
    "\n",
    "Nick Barlow<br>\n",
    "Adria Gascon<br>\n",
    "Tomas Lazauskas<br>\n",
    "Oliver Strickson<br>\n",
    "\n",
    "<img src=\"static/turing_logo.webp\" alt=\"Turing Logo\" width=\"15%\" align=\"left\" />\n",
    "\n",
    "<br clear=\"all\" />\n",
    "\n",
    "**7th WAHC, November 11, 2019, Hilton Metropole, London, UK**\n",
    "\n",
    "Acknowledgements: Matt Kusner, Amartya Sanyal, Varun Kanade, Mariana Raykova, Shai Halevi, Kim Laine"
   ]
  },
  {
   "cell_type": "markdown",
   "metadata": {
    "slideshow": {
     "slide_type": "slide"
    }
   },
   "source": [
    "## Who we are\n",
    "\n",
    "<div>\n",
    "<img src=\"static/adria.jpg\" alt=\"Adria\" width=\"15%\" style=\"float:left;padding:5px\"/>\n",
    "<br clear=\"all\" />\n",
    "Adria Gascon, (former) Research Fellow, The Alan Turing Institute (now Google)\n",
    "</div>\n",
    "\n",
    "<div>\n",
    "<img src=\"static/nick.jpg\" alt=\"Nick\" width=\"15%\" style=\"float:left;padding:5px\"/>\n",
    "<img src=\"static/tomas.jpg\" alt=\"Tomas\" width=\"15%\" style=\"float:left;padding:5px\"/>\n",
    "<img src=\"static/oliver.jpg\" alt=\"Oliver\" width=\"15%\" style=\"float:left;padding:5px\"/>\n",
    "<br clear=\"all\" />\n",
    "Nick, Tomas, Oliver: Research Engineering, The Alan Turing Institute\n",
    "</div>\n"
   ]
  },
  {
   "cell_type": "markdown",
   "metadata": {
    "slideshow": {
     "slide_type": "slide"
    }
   },
   "source": [
    "## Research Engineering at the Alan Turing Institute\n",
    "\n",
    " - The Alan Turing Institute is the UK's national centre for data science and AI\n",
    " - Research Engineering is a team of research **software engineers** and **data scientists**\n",
    "  - Goal is to help connect cutting-edge research to real-world problems and applications"
   ]
  },
  {
   "cell_type": "markdown",
   "metadata": {
    "slideshow": {
     "slide_type": "slide"
    }
   },
   "source": [
    "## SHEEP\n",
    "\n",
    "SHEEP is a Homomorphic Encryption Evaluation Platform\n",
    "\n",
    "- General aim of Homomorphic encryption: Protect data while **computing on it**\n",
    "\n",
    "<img src='static/he_eqn.png' alt='Homomorphic encryption' />"
   ]
  },
  {
   "cell_type": "markdown",
   "metadata": {
    "slideshow": {
     "slide_type": "slide"
    }
   },
   "source": [
    "## SHEEP\n",
    "\n",
    "- Is HE practical?\n",
    "- Many different libraries and versions of these\n",
    "- Rapidly changing field\n",
    "- Need for **practical** way to **compare libraries** for a **given application**"
   ]
  },
  {
   "cell_type": "markdown",
   "metadata": {
    "slideshow": {
     "slide_type": "slide"
    }
   },
   "source": [
    "## Inside SHEEP\n",
    "\n",
    "<img src='static/SHEEP_diagram.png' alt=\"SHEEP diagram\" width=\"50%\"/>"
   ]
  },
  {
   "cell_type": "markdown",
   "metadata": {
    "slideshow": {
     "slide_type": "slide"
    }
   },
   "source": [
    "## SHEEP features\n",
    " - Easily run performance benchmarks \n",
    "   - high level language\n",
    " - Compare libraries\n",
    "   - easy to write/maintain wrapper\n",
    "   - exposes parameters offered by the libraries\n",
    " - Reporting\n",
    "   - runtime, ciphertext size, parallelization"
   ]
  },
  {
   "cell_type": "markdown",
   "metadata": {
    "slideshow": {
     "slide_type": "slide"
    }
   },
   "source": [
    "## The SHEEP Circuit Description Language\n",
    "\n",
    "To compute `total = (a + b) + c`"
   ]
  },
  {
   "cell_type": "markdown",
   "metadata": {
    "slideshow": {
     "slide_type": "fragment"
    }
   },
   "source": [
    "```\n",
    "INPUTS a b c\n",
    "OUTPUTS total\n",
    "a b ADD d\n",
    "d c ADD total\n",
    "```"
   ]
  },
  {
   "cell_type": "markdown",
   "metadata": {
    "slideshow": {
     "slide_type": "slide"
    }
   },
   "source": [
    "## The SHEEP language and supported libraries\n",
    "\n",
    "<img src=\"static/sheep_contexts.gif\" alt=\"contexts\" />"
   ]
  },
  {
   "cell_type": "markdown",
   "metadata": {
    "slideshow": {
     "slide_type": "slide"
    }
   },
   "source": [
    "\n",
    "## A quick tour of SHEEP\n"
   ]
  },
  {
   "cell_type": "markdown",
   "metadata": {
    "slideshow": {
     "slide_type": "slide"
    }
   },
   "source": [
    "\n",
    "First some quick setup - set an environment variable so we can find our pre-made circuit files, then import the `sheep_client` module which contains methods to interact with the SHEEP API:"
   ]
  },
  {
   "cell_type": "code",
   "execution_count": null,
   "metadata": {
    "slideshow": {
     "slide_type": "fragment"
    }
   },
   "outputs": [],
   "source": [
    "import os\n",
    "import uuid\n",
    "if \"SHEEP_HOME\" in os.environ.keys():\n",
    "  SHEEP_HOME = os.environ[\"SHEEP_HOME\"]\n",
    "else:\n",
    "  SHEEP_HOME = os.path.join(os.environ[\"HOME\"],\"SHEEP\",\"frontend\")\n",
    "import sys\n",
    "sys.path.append(SHEEP_HOME)\n",
    "# import the sheep_client module\n",
    "from pysheep import sheep_client"
   ]
  },
  {
   "cell_type": "markdown",
   "metadata": {
    "slideshow": {
     "slide_type": "subslide"
    }
   },
   "source": [
    "Tell the SHEEP server that we want to start a new job:         "
   ]
  },
  {
   "cell_type": "code",
   "execution_count": null,
   "metadata": {
    "slideshow": {
     "slide_type": "fragment"
    }
   },
   "outputs": [],
   "source": [
    "sheep_client.new_job()"
   ]
  },
  {
   "cell_type": "markdown",
   "metadata": {
    "slideshow": {
     "slide_type": "subslide"
    }
   },
   "source": [
    "List the available contexts:"
   ]
  },
  {
   "cell_type": "code",
   "execution_count": null,
   "metadata": {
    "slideshow": {
     "slide_type": "fragment"
    }
   },
   "outputs": [],
   "source": [
    "sheep_client.get_available_contexts()"
   ]
  },
  {
   "cell_type": "markdown",
   "metadata": {
    "slideshow": {
     "slide_type": "subslide"
    }
   },
   "source": [
    "Lets do a test with LibPaillier:"
   ]
  },
  {
   "cell_type": "code",
   "execution_count": null,
   "metadata": {
    "slideshow": {
     "slide_type": "fragment"
    }
   },
   "outputs": [],
   "source": [
    "sheep_client.set_context(\"LP\")"
   ]
  },
  {
   "cell_type": "markdown",
   "metadata": {
    "slideshow": {
     "slide_type": "subslide"
    }
   },
   "source": [
    "List the available input types:"
   ]
  },
  {
   "cell_type": "code",
   "execution_count": null,
   "metadata": {
    "slideshow": {
     "slide_type": "fragment"
    }
   },
   "outputs": [],
   "source": [
    "sheep_client.new_job()\n",
    "sheep_client.set_context(\"LP\")\n",
    "sheep_client.get_available_input_types()"
   ]
  },
  {
   "cell_type": "markdown",
   "metadata": {
    "slideshow": {
     "slide_type": "subslide"
    }
   },
   "source": [
    "Let's use uint16_t:"
   ]
  },
  {
   "cell_type": "code",
   "execution_count": null,
   "metadata": {
    "slideshow": {
     "slide_type": "fragment"
    }
   },
   "outputs": [],
   "source": [
    "sheep_client.set_input_type(\"uint16_t\")"
   ]
  },
  {
   "cell_type": "markdown",
   "metadata": {
    "slideshow": {
     "slide_type": "subslide"
    }
   },
   "source": [
    "Now let's give it a circuit.  There are plenty of simple circuits in the ```benchmark_inputs/``` directory.  We need to provide the full path to the circuit though so we'll use the SHEEP_HOME we defined at the start."
   ]
  },
  {
   "cell_type": "code",
   "execution_count": null,
   "metadata": {
    "slideshow": {
     "slide_type": "fragment"
    }
   },
   "outputs": [],
   "source": [
    "r=sheep_client.set_circuit(os.path.join(SHEEP_HOME,\"benchmark_inputs/low_level/circuits/circuit-ADD-1.sheep\"))\n",
    "print(sheep_client.get_circuit()['content']['circuit'])"
   ]
  },
  {
   "cell_type": "markdown",
   "metadata": {
    "slideshow": {
     "slide_type": "subslide"
    }
   },
   "source": [
    "We can see the names of the \"inputs\" that this circuit expects:"
   ]
  },
  {
   "cell_type": "code",
   "execution_count": null,
   "metadata": {
    "slideshow": {
     "slide_type": "fragment"
    }
   },
   "outputs": [],
   "source": [
    "sheep_client.get_inputs()"
   ]
  },
  {
   "cell_type": "markdown",
   "metadata": {
    "slideshow": {
     "slide_type": "subslide"
    }
   },
   "source": [
    "Now we can set values for those inputs.  The circuit we've chosen just adds the two inputs together, so lets do 55+44 (and hope we get the answer 99 at the end!)  Note that we have to write the inputs as lists, as potentially we can do more than one calculation at the same time (known as SIMD))."
   ]
  },
  {
   "cell_type": "code",
   "execution_count": null,
   "metadata": {
    "slideshow": {
     "slide_type": "fragment"
    }
   },
   "outputs": [],
   "source": [
    "sheep_client.set_inputs({\"input_0\":[55],\"input_1\":[44]})"
   ]
  },
  {
   "cell_type": "markdown",
   "metadata": {
    "slideshow": {
     "slide_type": "subslide"
    }
   },
   "source": [
    "We have set the context, the input_type, the circuit_file and the input values - we should be ready to go!  Let's print out the configuration, and then check that we are fully configured."
   ]
  },
  {
   "cell_type": "code",
   "execution_count": null,
   "metadata": {
    "slideshow": {
     "slide_type": "fragment"
    }
   },
   "outputs": [],
   "source": [
    "sheep_client.get_config()"
   ]
  },
  {
   "cell_type": "markdown",
   "metadata": {
    "slideshow": {
     "slide_type": "subslide"
    }
   },
   "source": [
    "OK, let's execute the test!"
   ]
  },
  {
   "cell_type": "code",
   "execution_count": null,
   "metadata": {
    "slideshow": {
     "slide_type": "fragment"
    }
   },
   "outputs": [],
   "source": [
    "sheep_client.run_job()"
   ]
  },
  {
   "cell_type": "markdown",
   "metadata": {
    "slideshow": {
     "slide_type": "subslide"
    }
   },
   "source": [
    "The SHEEP server just used our selected \"context\" (i.e. HE library) to encrypt our inputs, evaluate our circuit, and decrypt the outputs.  It also then evaluated the same circuit \"in the clear\" (i.e. with no encryption) so that we can check we got the right answer.   The result, including the output values, the processing times, and the clear-text check, are available as a json object."
   ]
  },
  {
   "cell_type": "code",
   "execution_count": null,
   "metadata": {
    "slideshow": {
     "slide_type": "fragment"
    }
   },
   "outputs": [],
   "source": [
    "r=sheep_client.get_results()\n",
    "from pprint import pprint\n",
    "pprint(r)"
   ]
  },
  {
   "cell_type": "markdown",
   "metadata": {
    "slideshow": {
     "slide_type": "subslide"
    }
   },
   "source": [
    "So we can see that \n",
    " * we got the answer \"99\" (which is 55+44, the sum of our two inputs) \n",
    " * all the output values we got (just one in this case) matched the result from the \"cleartext\" context.\n",
    " * from the timings (which are in microseconds), the encryption and decryption were fast, but evaluating the circuit took some time."
   ]
  },
  {
   "cell_type": "markdown",
   "metadata": {
    "slideshow": {
     "slide_type": "subslide"
    }
   },
   "source": [
    "Lets do another circuit - this time with a COMPARE gate which returns 1 if the first input is greater than the second input, and zero otherwise:"
   ]
  },
  {
   "cell_type": "code",
   "execution_count": null,
   "metadata": {
    "slideshow": {
     "slide_type": "subslide"
    }
   },
   "outputs": [],
   "source": [
    "sheep_client.new_job()\n",
    "sheep_client.set_context(\"TFHE\")\n",
    "sheep_client.set_input_type(\"int8_t\")\n",
    "sheep_client.set_circuit(os.path.join(SHEEP_HOME,\"benchmark_inputs/low_level/circuits/circuit-COMPARE-1.sheep\"))\n",
    "sheep_client.set_inputs({\"input_0\": [11], \"input_1\": [10]})\n",
    "sheep_client.run_job()\n",
    "sheep_client.get_results()"
   ]
  },
  {
   "cell_type": "markdown",
   "metadata": {
    "slideshow": {
     "slide_type": "slide"
    }
   },
   "source": [
    "## Using \"slots\""
   ]
  },
  {
   "cell_type": "markdown",
   "metadata": {
    "slideshow": {
     "slide_type": "subslide"
    }
   },
   "source": [
    "Many HE algorithms can operate on vectors of inputs simultaneously (SIMD operations).  This is supported in SHEEP as follows:"
   ]
  },
  {
   "cell_type": "code",
   "execution_count": null,
   "metadata": {
    "slideshow": {
     "slide_type": "fragment"
    }
   },
   "outputs": [],
   "source": [
    "sheep_client.new_job()\n",
    "sheep_client.set_context(\"HElib_Fp\")\n",
    "sheep_client.set_input_type(\"int8_t\")\n",
    "sheep_client.get_nslots()"
   ]
  },
  {
   "cell_type": "markdown",
   "metadata": {
    "slideshow": {
     "slide_type": "subslide"
    }
   },
   "source": [
    "We can now introduce a new operation, ROTATE to shift the elements of the slots around:"
   ]
  },
  {
   "cell_type": "code",
   "execution_count": null,
   "metadata": {
    "slideshow": {
     "slide_type": "subslide"
    }
   },
   "outputs": [],
   "source": [
    "sheep_client.set_circuit_text(\"INPUTS in \\n CONST_INPUTS shift \\n OUTPUTS out \\n in shift ROTATE out\\n\")\n",
    "sheep_client.set_inputs({\"in\": [1,2,3,4]})\n",
    "sheep_client.set_const_inputs({\"shift\": 1})\n",
    "sheep_client.run_job()\n",
    "sheep_client.get_results()"
   ]
  },
  {
   "cell_type": "markdown",
   "metadata": {
    "slideshow": {
     "slide_type": "subslide"
    }
   },
   "source": [
    "We only got four slots with that set of parameters in HElib, but we can try a different set:"
   ]
  },
  {
   "cell_type": "code",
   "execution_count": null,
   "metadata": {
    "slideshow": {
     "slide_type": "fragment"
    }
   },
   "outputs": [],
   "source": [
    "sheep_client.set_parameters({\"BaseParamSet\": 2})\n",
    "sheep_client.get_nslots()"
   ]
  },
  {
   "cell_type": "markdown",
   "metadata": {
    "slideshow": {
     "slide_type": "subslide"
    }
   },
   "source": [
    "For those libraries that do not support SIMD operations, we still allow slots (with \"nslots\" as a configurable parameter), but the calculation is of course slower (by a factor nslots)."
   ]
  },
  {
   "cell_type": "code",
   "execution_count": null,
   "metadata": {
    "slideshow": {
     "slide_type": "fragment"
    }
   },
   "outputs": [],
   "source": [
    "sheep_client.set_context(\"TFHE\")\n",
    "sheep_client.get_nslots()"
   ]
  },
  {
   "cell_type": "code",
   "execution_count": null,
   "metadata": {
    "slideshow": {
     "slide_type": "fragment"
    }
   },
   "outputs": [],
   "source": [
    "sheep_client.set_parameters({\"NumSlots\": 100})\n",
    "sheep_client.get_nslots()"
   ]
  },
  {
   "cell_type": "markdown",
   "metadata": {
    "slideshow": {
     "slide_type": "subslide"
    }
   },
   "source": [
    "SEAL_BFV does support SIMD, and the default parameters give us a large number of slots:"
   ]
  },
  {
   "cell_type": "code",
   "execution_count": null,
   "metadata": {
    "slideshow": {
     "slide_type": "fragment"
    }
   },
   "outputs": [],
   "source": [
    "sheep_client.new_job()\n",
    "sheep_client.set_context(\"SEAL_BFV\")\n",
    "sheep_client.set_input_type(\"int8_t\")\n",
    "sheep_client.get_nslots()"
   ]
  },
  {
   "cell_type": "markdown",
   "metadata": {
    "slideshow": {
     "slide_type": "fragment"
    }
   },
   "source": [
    "If we don't need all those slots. If we specify fewer, the server will fill the rest up with a repeating pattern of the specified inputs, so that ROTATE operations will still be correct.\n"
   ]
  },
  {
   "cell_type": "markdown",
   "metadata": {
    "slideshow": {
     "slide_type": "subslide"
    }
   },
   "source": [
    "Now lets try a simple \"MULTIPLY\" across five slots."
   ]
  },
  {
   "cell_type": "code",
   "execution_count": null,
   "metadata": {
    "slideshow": {
     "slide_type": "fragment"
    }
   },
   "outputs": [],
   "source": [
    "sheep_client.set_circuit(os.path.join(SHEEP_HOME,\"benchmark_inputs/low_level/circuits/circuit-MULTIPLY-1.sheep\"))\n",
    "sheep_client.set_inputs({\"input_0\":[1,2,3,4,5],\"input_1\":[2,4,6,8,10]})\n",
    "sheep_client.run_job()\n",
    "sheep_client.get_results()"
   ]
  },
  {
   "cell_type": "markdown",
   "metadata": {
    "slideshow": {
     "slide_type": "slide"
    }
   },
   "source": [
    "## Low-level benchmarks"
   ]
  },
  {
   "cell_type": "markdown",
   "metadata": {
    "slideshow": {
     "slide_type": "subslide"
    }
   },
   "source": [
    "The first set of benchmarks to be run corresponds to circuits composed of only one type of gate, with various \"depths\" (i.e. numbers of nested gates).\n",
    "\n",
    "For example, circuit-ADD-3.sheep contains three nested \"ADD\" gates: output=((a+b)+c)+d.\n",
    "\n"
   ]
  },
  {
   "cell_type": "markdown",
   "metadata": {
    "slideshow": {
     "slide_type": "subslide"
    }
   },
   "source": [
    "We perform several \"scans\" of parameter space. For each scan, some functions in benchmark_utils will be run to configure and run the HE libraries, and then we visualize the results.\n",
    "\n",
    "We will show a shortened version of the first of these scans here as an example:"
   ]
  },
  {
   "cell_type": "code",
   "execution_count": null,
   "metadata": {
    "slideshow": {
     "slide_type": "subslide"
    }
   },
   "outputs": [],
   "source": [
    "import re\n",
    "import pandas as pd\n",
    "import numpy as np\n",
    "from matplotlib import pyplot as plt\n",
    "\n",
    "from pysheep.low_level_benchmarks import params_for_level, run_circuit"
   ]
  },
  {
   "cell_type": "markdown",
   "metadata": {
    "slideshow": {
     "slide_type": "subslide"
    }
   },
   "source": [
    "### Scan 1\n",
    "Set parameters for the \"leveled\" libraries (HElib_Fp, SEAL_BFV and PALISADE) to be able to support multiplicative depth of 10, then compare the timings for different depths of ADD and MULTIPLY."
   ]
  },
  {
   "cell_type": "code",
   "execution_count": null,
   "metadata": {
    "scrolled": true,
    "slideshow": {
     "slide_type": "subslide"
    }
   },
   "outputs": [],
   "source": [
    "CIRCUIT_FILE_DIR = os.path.join(os.environ[\"SHEEP_HOME\"],\"benchmark_inputs\",\"low_level\",\"circuits\")\n",
    "## give a unique scan_id so that we can retrieve the results later on\n",
    "scan_id = str(uuid.uuid4())\n",
    "## look at bool inputs\n",
    "input_type = \"bool\"\n",
    "## start looping over gates, depths, and contexts\n",
    "for gate in [\"ADD\",\"MULTIPLY\"]:\n",
    "    for context in [\"HElib_Fp\",\"SEAL_BFV\",\"PALISADE\"]:\n",
    "        params = params_for_level(context,10)\n",
    "        for d in range(1,6):\n",
    "            circuit_file = CIRCUIT_FILE_DIR+\"/circuit-\"+gate+\"-\"+str(d)+\".sheep\"\n",
    "            print(\"Doing benchmark for %s %s %s %i\" % (context,gate,input_type,d))\n",
    "            uploaded_OK = run_circuit(circuit_file, input_type, context, params,\"serial\",scan_id,timeout=60)\n",
    "            if not uploaded_OK:\n",
    "                print(\"Problem running test or uploading result\")\n",
    "if uploaded_OK:\n",
    "    print(\"Finished OK\")"
   ]
  },
  {
   "cell_type": "markdown",
   "metadata": {
    "slideshow": {
     "slide_type": "subslide"
    }
   },
   "source": [
    "### Tabulating and plotting the results\n",
    "\n",
    "We use matplotlib and pandas to plot the results, and store the results in an sqlite file:"
   ]
  },
  {
   "cell_type": "code",
   "execution_count": null,
   "metadata": {
    "slideshow": {
     "slide_type": "fragment"
    }
   },
   "outputs": [],
   "source": [
    "from pysheep.database import BenchmarkMeasurement, session\n",
    "from pysheep.benchmark_utils import levels_for_params\n",
    "from pysheep.low_level_benchmarks import get_gate_name_from_circuit_name\n"
   ]
  },
  {
   "cell_type": "code",
   "execution_count": null,
   "metadata": {
    "slideshow": {
     "slide_type": "subslide"
    }
   },
   "outputs": [],
   "source": [
    "def get_levels_for_row(benchmark_measurement):\n",
    "    ## do the reverse lookup of params_for_level\n",
    "    context = benchmark_measurement.context\n",
    "    param_dict = {}\n",
    "    for param in benchmark_measurement.parameters:\n",
    "        param_dict[param.param_name] = param.param_value\n",
    "    return levels_for_params(benchmark_measurement.context,param_dict)\n",
    "\n",
    "def get_depth_for_row(benchmark_measurement):\n",
    "    ## parse the circuit filename and see how many nested gates there were \n",
    "    return re.search(\"-([\\d]+).sheep\",benchmark_measurement.circuit_name).groups()[0]\n",
    "\n",
    "\n",
    "def get_execution_time_for_row(benchmark_measurement):\n",
    "    for timing in benchmark_measurement.timings:\n",
    "        if timing.timing_name == \"evaluation\":\n",
    "            return timing.timing_value\n",
    "\n",
    "def fill_row(benchmark_measurement, columns):\n",
    "    columns[\"context\"].append(benchmark_measurement.context)\n",
    "    columns[\"gate\"].append(get_gate_name_from_circuit_name(benchmark_measurement.circuit_name))\n",
    "    columns[\"input_bitwidth\"].append(benchmark_measurement.input_bitwidth)\n",
    "    columns[\"input_signed\"].append(benchmark_measurement.input_signed)\n",
    "    if \"level\" in columns.keys():\n",
    "        columns[\"level\"].append(get_levels_for_row(benchmark_measurement))\n",
    "    if \"depth\" in columns.keys():\n",
    "        columns[\"depth\"].append(get_depth_for_row(benchmark_measurement))\n",
    "    columns[\"execution_time\"].append(get_execution_time_for_row(benchmark_measurement))\n",
    "    return columns"
   ]
  },
  {
   "cell_type": "code",
   "execution_count": null,
   "metadata": {
    "slideshow": {
     "slide_type": "subslide"
    }
   },
   "outputs": [],
   "source": [
    "rows_scan1 = session.query(BenchmarkMeasurement).filter_by(scan_id=scan_id).all()\n",
    "dict_scan1 = {\"context\":[],\"gate\":[],\"input_bitwidth\":[],\"input_signed\":[],\"depth\":[], \"execution_time\":[]}\n",
    "for row in rows_scan1:\n",
    "    dict_scan1 = fill_row(row,dict_scan1)\n",
    "df_scan1 = pd.DataFrame(dict_scan1)\n",
    "df_scan1.head()"
   ]
  },
  {
   "cell_type": "markdown",
   "metadata": {
    "slideshow": {
     "slide_type": "subslide"
    }
   },
   "source": [
    "Now lets write a function to plot execution time vs depth for each gate type:"
   ]
  },
  {
   "cell_type": "code",
   "execution_count": null,
   "metadata": {
    "slideshow": {
     "slide_type": "fragment"
    }
   },
   "outputs": [],
   "source": [
    "def execution_time_vs_x_cat(input_dataframe, gate_name, bitwidth, is_signed, libs_list, x_var=\"context\",category_var=None):\n",
    "    ## plot execution time for different contexts vs category var (e.g. \"depth\", \"levels\")\n",
    "    rows = input_dataframe[(input_dataframe.input_bitwidth==bitwidth) & \n",
    "                           (input_dataframe.gate==gate_name) & \n",
    "                           input_dataframe.context.isin(libs_list) & \n",
    "                           (input_dataframe.input_signed==is_signed)\n",
    "                          ]\n",
    " #   return rows\n",
    "    if category_var:\n",
    "        return rows.drop_duplicates([x_var, category_var]).pivot(\n",
    "            index=x_var, columns=category_var, values='execution_time')\n",
    "    else:\n",
    "        return rows.drop_duplicates([x_var]).pivot(\n",
    "            index=x_var, values='execution_time')"
   ]
  },
  {
   "cell_type": "code",
   "execution_count": null,
   "metadata": {
    "slideshow": {
     "slide_type": "subslide"
    }
   },
   "outputs": [],
   "source": [
    "all_ops = set(df_scan1.gate)\n",
    "bitwidth = 1\n",
    "is_signed = False\n",
    "for i, op in enumerate(all_ops):\n",
    "    libs = [\"HElib_Fp\", \"SEAL_BFV\",\"PALISADE\"]\n",
    "    plot_scan1 = execution_time_vs_x_cat(df_scan1, op, bitwidth, is_signed, libs,\"context\",\"depth\")\n",
    "    axis = plt.subplot((len(all_ops) + 2 // 2) // 2, 2, i + 1)\n",
    "#     axis.set_yscale(\"log\")\n",
    "    plot_scan1.plot(ax=axis, title=op + ' with bitwidth = ' + str(bitwidth), kind='bar', figsize=(15, 10), legend=False if i!=0 else True)\n",
    "plt.tight_layout()\n",
    "plt.show()"
   ]
  },
  {
   "cell_type": "markdown",
   "metadata": {
    "slideshow": {
     "slide_type": "slide"
    }
   },
   "source": [
    "## Mid-level benchmark - Private Information Retrieval"
   ]
  },
  {
   "cell_type": "markdown",
   "metadata": {
    "slideshow": {
     "slide_type": "subslide"
    }
   },
   "source": [
    "One application of HE is to retrieve a data point from a database held elsewhere, without the database holder knowing which point is being requested. If Alice wants to query Bob's database, she simply encrypts an array full of zeros, except for a \"1\" in the position of the desired data point, and sends this ciphertext to Bob. He then performs homomorphic multiplication and addition, and sends the ciphertext back to Alice, who decrypts it to retrieve the data point she requested.\n",
    "\n",
    "To demonstrate this on a very small scale, lets look at a \"database\" containing only two values: 123 and 456:"
   ]
  },
  {
   "cell_type": "code",
   "execution_count": null,
   "metadata": {
    "slideshow": {
     "slide_type": "subslide"
    }
   },
   "outputs": [],
   "source": [
    "from pysheep.mid_level_benchmarks import generate_pir_circuit, \\\n",
    "    generate_variance_circuit, generate_bitonic_sort_circuit, generate_gaussian_inputs\n",
    "from pysheep import benchmark_utils\n",
    "from pysheep import common_utils\n",
    "\n",
    "sheep_client.new_job() \n",
    "sheep_client.set_context(\"HElib_Fp\")\n",
    "sheep_client.set_input_type(\"int16_t\")"
   ]
  },
  {
   "cell_type": "markdown",
   "metadata": {
    "slideshow": {
     "slide_type": "subslide"
    }
   },
   "source": [
    "Now let's generate the circuit file for this simple PIR case with two values in the \"database\":"
   ]
  },
  {
   "cell_type": "code",
   "execution_count": null,
   "metadata": {
    "slideshow": {
     "slide_type": "subslide"
    }
   },
   "outputs": [],
   "source": [
    "circuit_file=generate_pir_circuit(2,[2])\n",
    "sheep_client.set_circuit(circuit_file)\n",
    "sheep_client.get_inputs()"
   ]
  },
  {
   "cell_type": "markdown",
   "metadata": {
    "slideshow": {
     "slide_type": "fragment"
    }
   },
   "source": [
    "\"d_a_b_c\" are the \"database\" values, and \"s_x_y\" are the \"selector\" values. We can set d_0_0_0 and d_0_1_0 to \"123\" and \"456\" respectively. Then, to select d_0_0_0 (which will hopefully be the value \"123\") from the database, we should set s_0_0 to 1 and s_0_1 to zero."
   ]
  },
  {
   "cell_type": "code",
   "execution_count": null,
   "metadata": {
    "slideshow": {
     "slide_type": "fragment"
    }
   },
   "outputs": [],
   "source": [
    "sheep_client.set_inputs({\"d_0_0_0\": [123], \"d_0_1_0\": [456], \"s_0_0\": [1], \"s_0_1\": [0]})\n",
    "sheep_client.run_job()"
   ]
  },
  {
   "cell_type": "code",
   "execution_count": null,
   "metadata": {
    "slideshow": {
     "slide_type": "subslide"
    }
   },
   "outputs": [],
   "source": [
    "sheep_client.get_results()"
   ]
  },
  {
   "cell_type": "markdown",
   "metadata": {
    "slideshow": {
     "slide_type": "fragment"
    }
   },
   "source": [
    "So we successfully got the output value \"123\", i.e. the first entry in the \"database\"."
   ]
  },
  {
   "cell_type": "markdown",
   "metadata": {
    "slideshow": {
     "slide_type": "slide"
    }
   },
   "source": [
    "## Mid-level benchmark - Matrix vector multiplication"
   ]
  },
  {
   "cell_type": "markdown",
   "metadata": {
    "slideshow": {
     "slide_type": "subslide"
    }
   },
   "source": [
    "Lets do the following calculation:\n",
    "\\begin{equation*}\n",
    "\\begin{vmatrix}\n",
    "1, 2 , 3 , 4\\\\\n",
    "5 , 6 , 7 , 8\\\\\n",
    "9, 10, 11, 12 \\\\\n",
    "13, 14 , 15, 16\n",
    "\\end{vmatrix}\n",
    "\\begin{vmatrix}\n",
    "1 \\\\\n",
    "2 \\\\\n",
    "3 \\\\\n",
    "4\n",
    "\\end{vmatrix}\n",
    "\\end{equation*}\n",
    "\n",
    "which should give us the answer {30, 70, 110, 150}"
   ]
  },
  {
   "cell_type": "markdown",
   "metadata": {
    "slideshow": {
     "slide_type": "subslide"
    }
   },
   "source": [
    "### a) The straightforward (but non-optimal) way\n",
    "\n",
    "Essentially the each element of the output vector will be the dot product of the corresponding row of the matrix with the vector.  We can therefore do this in the same way as was demonstrated in the vector_dot_product notebook, i.e. component-wise multiplication followed by a sequence of rotations and additions.\n",
    "\n",
    "The circuit will look like:"
   ]
  },
  {
   "cell_type": "code",
   "execution_count": null,
   "metadata": {
    "slideshow": {
     "slide_type": "subslide"
    }
   },
   "outputs": [],
   "source": [
    "circuit = \"\"\"\n",
    "INPUTS mrow_0 mrow_1 mrow_2 mrow_3 vec mask\n",
    "CONST_INPUTS rotate_by_minus1 rotate_by_plus1 rotate_by_plus2 rotate_by_plus3\n",
    "OUTPUTS output_vec \n",
    "# dot product of the first row with the vector\n",
    "mrow_0 vec MULTIPLY prod_00\n",
    "prod_00 rotate_by_minus1 ROTATE prod_01\n",
    "prod_00 prod_01 ADD sum_00\n",
    "prod_01 rotate_by_minus1 ROTATE prod_02\n",
    "sum_00 prod_02 ADD sum_01\n",
    "prod_02 rotate_by_minus1 ROTATE prod_03\n",
    "sum_01 prod_03 ADD sum_0\n",
    "# dot product of the second row with the vector\n",
    "mrow_1 vec MULTIPLY prod_10\n",
    "prod_10 rotate_by_minus1 ROTATE prod_11\n",
    "prod_10 prod_11 ADD sum_10\n",
    "prod_11 rotate_by_minus1 ROTATE prod_12\n",
    "sum_10 prod_12 ADD sum_11\n",
    "prod_12 rotate_by_minus1 ROTATE prod_13\n",
    "sum_11 prod_13 ADD sum_1\n",
    "# dot product of the third row with the vector\n",
    "mrow_2 vec MULTIPLY prod_20\n",
    "prod_20 rotate_by_minus1 ROTATE prod_21\n",
    "prod_20 prod_21 ADD sum_20\n",
    "prod_21 rotate_by_minus1 ROTATE prod_22\n",
    "sum_20 prod_22 ADD sum_21\n",
    "prod_22 rotate_by_minus1 ROTATE prod_23\n",
    "sum_21 prod_23 ADD sum_2\n",
    "# dot product of the third row with the vector\n",
    "mrow_3 vec MULTIPLY prod_30\n",
    "prod_30 rotate_by_minus1 ROTATE prod_31\n",
    "prod_30 prod_31 ADD sum_30\n",
    "prod_31 rotate_by_minus1 ROTATE prod_32\n",
    "sum_30 prod_32 ADD sum_31\n",
    "prod_32 rotate_by_minus1 ROTATE prod_33\n",
    "sum_31 prod_33 ADD sum_3\n",
    "# now we have four vectors, sum_0, sum_1, sum_2 and sum_3, where the first element is \n",
    "# the dot product of that row.  We need to isolate just this element, using mask, which is [1,0,0,0]\n",
    "sum_0 mask MULTIPLY msum_0\n",
    "sum_1 mask MULTIPLY msum_10\n",
    "msum_10 rotate_by_plus1 ROTATE msum_1\n",
    "sum_2 mask MULTIPLY msum_20\n",
    "msum_20 rotate_by_plus2 ROTATE msum_2\n",
    "sum_3 mask MULTIPLY msum_30\n",
    "msum_30 rotate_by_plus3 ROTATE msum_3\n",
    "# now we should have four vectors with one non-zero element each in the right place - need to sum them\n",
    "msum_0 msum_1 ADD out_01\n",
    "out_01 msum_2 ADD out_02\n",
    "out_02 msum_3 ADD output_vec\n",
    "\"\"\""
   ]
  },
  {
   "cell_type": "code",
   "execution_count": null,
   "metadata": {
    "slideshow": {
     "slide_type": "subslide"
    }
   },
   "outputs": [],
   "source": [
    "sheep_client.new_job()\n",
    "sheep_client.set_context(\"HElib_Fp\")\n",
    "sheep_client.set_input_type(\"int16_t\")\n",
    "sheep_client.set_parameters({\"Levels\":30})\n",
    "sheep_client.set_circuit_text(circuit)\n",
    "sheep_client.get_inputs()"
   ]
  },
  {
   "cell_type": "code",
   "execution_count": null,
   "metadata": {
    "slideshow": {
     "slide_type": "fragment"
    }
   },
   "outputs": [],
   "source": [
    "sheep_client.get_const_inputs()"
   ]
  },
  {
   "cell_type": "code",
   "execution_count": null,
   "metadata": {
    "slideshow": {
     "slide_type": "fragment"
    }
   },
   "outputs": [],
   "source": [
    "sheep_client.set_inputs({\"mrow_0\": [1,2,3,4], \"mrow_1\": [5,6,7,8], \"mrow_2\": [9,10,11,12], \"mrow_3\": [13,14,15,16],\"vec\": [1,2,3,4], \"mask\": [1,0,0,0]})\n",
    "sheep_client.set_const_inputs({\"rotate_by_minus1\": -1, \"rotate_by_plus1\": 1, \"rotate_by_plus2\": 2, \"rotate_by_plus3\":3})\n",
    "sheep_client.run_job()\n",
    "                              "
   ]
  },
  {
   "cell_type": "code",
   "execution_count": null,
   "metadata": {
    "slideshow": {
     "slide_type": "subslide"
    }
   },
   "outputs": [],
   "source": [
    "sheep_client.get_results()"
   ]
  },
  {
   "cell_type": "code",
   "execution_count": null,
   "metadata": {
    "slideshow": {
     "slide_type": "fragment"
    }
   },
   "outputs": [],
   "source": [
    "benchmark_utils.upload_results(\"matrix_vector_mult_4x4x4\")"
   ]
  },
  {
   "cell_type": "markdown",
   "metadata": {
    "slideshow": {
     "slide_type": "subslide"
    }
   },
   "source": [
    "Now lets do the same test with SEAL_BFV:"
   ]
  },
  {
   "cell_type": "code",
   "execution_count": null,
   "metadata": {
    "slideshow": {
     "slide_type": "fragment"
    }
   },
   "outputs": [],
   "source": [
    "sheep_client.new_job()\n",
    "sheep_client.set_context(\"SEAL_BFV\")\n",
    "sheep_client.set_input_type(\"int16_t\")\n",
    "sheep_client.set_circuit_text(circuit)\n",
    "sheep_client.set_inputs({\"mrow_0\": [1,2,3,4], \"mrow_1\": [5,6,7,8], \"mrow_2\": [9,10,11,12], \"mrow_3\": [13,14,15,16],\"vec\": [1,2,3,4], \"mask\": [1,0,0,0]})\n",
    "sheep_client.set_const_inputs({\"rotate_by_minus1\": -1, \"rotate_by_plus1\": 1, \"rotate_by_plus2\": 2, \"rotate_by_plus3\":3})\n",
    "sheep_client.run_job()\n",
    "benchmark_utils.upload_results(\"matrix_vector_mult_4x4x4\")"
   ]
  },
  {
   "cell_type": "code",
   "execution_count": null,
   "metadata": {
    "slideshow": {
     "slide_type": "subslide"
    }
   },
   "outputs": [],
   "source": [
    "rows = session.query(BenchmarkMeasurement).filter_by(circuit_name=\"matrix_vector_mult_4x4x4\").all()\n",
    "df_dict = {\"Context\": [], \"Gate\": [], \"Time\": []}\n",
    "for row in rows:\n",
    "    timingdict = benchmark_utils.timing_per_gate_type(row.timings, circuit)\n",
    "    for k,v in timingdict.items():\n",
    "        df_dict[\"Context\"].append(row.context)\n",
    "        df_dict[\"Gate\"].append(k)\n",
    "        df_dict[\"Time\"].append(v)\n",
    "df = pd.DataFrame(df_dict)\n",
    "df"
   ]
  },
  {
   "cell_type": "code",
   "execution_count": null,
   "metadata": {
    "slideshow": {
     "slide_type": "subslide"
    }
   },
   "outputs": [],
   "source": [
    "pivot_df = df.pivot(index='Context', columns='Gate', values='Time')\n",
    "pivot_df.plot(kind='bar',stacked=True)"
   ]
  },
  {
   "cell_type": "markdown",
   "metadata": {
    "slideshow": {
     "slide_type": "subslide"
    }
   },
   "source": [
    "### b) A better way -  doing the same calculation with fewer ROTATEs.\n",
    "\n",
    "The paper describing the [GAZELLE](https://eprint.iacr.org/2018/073.pdf) framework includes a clever method for speeding up matrix-vector multiplication with SIMD operations.\n",
    "To minimize the number of intra-slot operations, we can express the matrix inputs as diagonal strips of the matrix.\n",
    "\n",
    "In this case, the circuit will look like:"
   ]
  },
  {
   "cell_type": "code",
   "execution_count": null,
   "metadata": {
    "slideshow": {
     "slide_type": "fragment"
    }
   },
   "outputs": [],
   "source": [
    "new_circuit = \"\"\"\n",
    "INPUTS mstrip_0 mstrip_1 mstrip_2 mstrip_3 vec \n",
    "CONST_INPUTS rotate_minus1\n",
    "OUTPUTS output_vec \n",
    "mstrip_0 vec MULTIPLY prod_0\n",
    "vec rotate_minus1 ROTATE vec_r1\n",
    "mstrip_1 vec_r1 MULTIPLY prod_1\n",
    "vec_r1 rotate_minus1 ROTATE vec_r2\n",
    "mstrip_2 vec_r2 MULTIPLY prod_2\n",
    "vec_r2 rotate_minus1 ROTATE vec_r3\n",
    "mstrip_3 vec_r3 MULTIPLY prod_3\n",
    "prod_0 prod_1 ADD sum_0\n",
    "sum_0 prod_2 ADD sum_1\n",
    "sum_1 prod_3 ADD output_vec\n",
    "\"\"\""
   ]
  },
  {
   "cell_type": "code",
   "execution_count": null,
   "metadata": {
    "slideshow": {
     "slide_type": "subslide"
    }
   },
   "outputs": [],
   "source": [
    "sheep_client.new_job()\n",
    "sheep_client.set_context(\"SEAL_BFV\")\n",
    "sheep_client.set_input_type(\"int16_t\")\n",
    "sheep_client.set_circuit_text(new_circuit)"
   ]
  },
  {
   "cell_type": "markdown",
   "metadata": {
    "slideshow": {
     "slide_type": "subslide"
    }
   },
   "source": [
    "We set some of the inputs to be the same as in the naive case above:"
   ]
  },
  {
   "cell_type": "code",
   "execution_count": null,
   "metadata": {
    "slideshow": {
     "slide_type": "fragment"
    }
   },
   "outputs": [],
   "source": [
    "const_input_vals = {\"rotate_minus1\": -1}\n",
    "input_vals = {\"vec\": [1,2,3,4]}"
   ]
  },
  {
   "cell_type": "markdown",
   "metadata": {
    "slideshow": {
     "slide_type": "subslide"
    }
   },
   "source": [
    "For the matrix though, we take diagonal strips:"
   ]
  },
  {
   "cell_type": "code",
   "execution_count": null,
   "metadata": {
    "slideshow": {
     "slide_type": "fragment"
    }
   },
   "outputs": [],
   "source": [
    "input_vals[\"mstrip_0\"] = [1,6,11,16]\n",
    "input_vals[\"mstrip_1\"] = [2,7,12,13]\n",
    "input_vals[\"mstrip_2\"] = [3,8,9,14]\n",
    "input_vals[\"mstrip_3\"] = [4,5,10,15]\n",
    "sheep_client.set_inputs(input_vals)\n",
    "sheep_client.set_const_inputs(const_input_vals)\n",
    "sheep_client.run_job()\n",
    "sheep_client.get_results()"
   ]
  },
  {
   "cell_type": "markdown",
   "metadata": {
    "slideshow": {
     "slide_type": "subslide"
    }
   },
   "source": [
    "We got the right answer again!  \n",
    "Lets compare with HElib again:"
   ]
  },
  {
   "cell_type": "code",
   "execution_count": null,
   "metadata": {
    "slideshow": {
     "slide_type": "fragment"
    }
   },
   "outputs": [],
   "source": [
    "benchmark_utils.upload_results(\"matrix_vector_mult_4x4x4_fast\")\n",
    "sheep_client.new_job()\n",
    "sheep_client.set_context(\"HElib_Fp\")\n",
    "sheep_client.set_input_type(\"int16_t\")\n",
    "sheep_client.set_parameters({\"Levels\":10})\n",
    "sheep_client.set_circuit_text(new_circuit)\n",
    "sheep_client.set_inputs(input_vals)\n",
    "sheep_client.set_const_inputs(const_input_vals)\n",
    "sheep_client.run_job()\n",
    "benchmark_utils.upload_results(\"matrix_vector_mult_4x4x4_fast\")"
   ]
  },
  {
   "cell_type": "code",
   "execution_count": null,
   "metadata": {
    "slideshow": {
     "slide_type": "subslide"
    }
   },
   "outputs": [],
   "source": [
    "rows = session.query(BenchmarkMeasurement).filter_by(circuit_name=\"matrix_vector_mult_4x4x4_fast\").all()\n",
    "df_dict = {\"Context\": [], \"Gate\": [], \"Time\": []}\n",
    "for row in rows:\n",
    "    timingdict = benchmark_utils.timing_per_gate_type(row.timings, new_circuit)\n",
    "    for k,v in timingdict.items():\n",
    "        df_dict[\"Context\"].append(row.context)\n",
    "        df_dict[\"Gate\"].append(k)\n",
    "        df_dict[\"Time\"].append(v)\n",
    "df = pd.DataFrame(df_dict)\n",
    "pivot_df = df.pivot(index='Context', columns='Gate', values='Time')\n",
    "pivot_df.plot(kind='bar',stacked=True)"
   ]
  },
  {
   "cell_type": "markdown",
   "metadata": {
    "slideshow": {
     "slide_type": "slide"
    }
   },
   "source": [
    "## Using SEAL_CKKS with floating point numbers"
   ]
  },
  {
   "cell_type": "markdown",
   "metadata": {
    "slideshow": {
     "slide_type": "subslide"
    }
   },
   "source": [
    "The CKKS algorithm allows us to handle floating point numbers.  Lets do a simple addition:"
   ]
  },
  {
   "cell_type": "code",
   "execution_count": null,
   "metadata": {
    "slideshow": {
     "slide_type": "fragment"
    }
   },
   "outputs": [],
   "source": [
    "sheep_client.new_job()\n",
    "sheep_client.set_context(\"SEAL_CKKS\")\n",
    "sheep_client.set_input_type(\"double\")\n",
    "sheep_client.set_circuit(os.path.join(SHEEP_HOME,\"benchmark_inputs/low_level/circuits/circuit-ADD-1.sheep\"))\n",
    "sheep_client.set_inputs({\"input_0\":[1.1,3.3,4.4],\"input_1\":[2.1,2.1,2.1]})\n",
    "sheep_client.run_job()\n",
    "sheep_client.get_results()"
   ]
  },
  {
   "cell_type": "markdown",
   "metadata": {
    "slideshow": {
     "slide_type": "subslide"
    }
   },
   "source": [
    "... and complex numbers - we input the values as strings in the format \"a.b+c.di\" (spaces are tolerated, decimal points can be included or omitted, but you MUST put the \"i\" at the end of the imaginary part)."
   ]
  },
  {
   "cell_type": "code",
   "execution_count": null,
   "metadata": {
    "slideshow": {
     "slide_type": "fragment"
    }
   },
   "outputs": [],
   "source": [
    "sheep_client.new_job()\n",
    "sheep_client.set_context(\"SEAL_CKKS\")\n",
    "sheep_client.set_input_type(\"complex\")\n",
    "sheep_client.set_circuit(os.path.join(SHEEP_HOME,\"benchmark_inputs/low_level/circuits/circuit-ADD-1.sheep\"))\n",
    "sheep_client.set_inputs({\"input_0\":[\"1.1+3.3i\"],\"input_1\":[\"2.1-3.3i\"]})\n",
    "sheep_client.run_job()\n",
    "sheep_client.get_results()"
   ]
  },
  {
   "cell_type": "markdown",
   "metadata": {
    "slideshow": {
     "slide_type": "slide"
    }
   },
   "source": [
    "## Summary\n",
    "\n",
    "- SHEEP is an open-source project\n",
    "- Looking for collaborators and users\n",
    "- Let's integrate your library!"
   ]
  },
  {
   "cell_type": "markdown",
   "metadata": {
    "slideshow": {
     "slide_type": "slide"
    }
   },
   "source": [
    "## The SHEEP Project\n",
    "\n",
    "#### http://turing.ac.uk/research/research-projects/evaluating-homomorphic-encryption\n",
    "#### Available from <br />  https://github.com/alan-turing-institute/sheep\n",
    "\n"
   ]
  }
 ],
 "metadata": {
  "celltoolbar": "Slideshow",
  "kernelspec": {
   "display_name": "Python 3",
   "language": "python",
   "name": "python3"
  },
  "language_info": {
   "codemirror_mode": {
    "name": "ipython",
    "version": 3
   },
   "file_extension": ".py",
   "mimetype": "text/x-python",
   "name": "python",
   "nbconvert_exporter": "python",
   "pygments_lexer": "ipython3",
   "version": "3.5.2"
  }
 },
 "nbformat": 4,
 "nbformat_minor": 2
}

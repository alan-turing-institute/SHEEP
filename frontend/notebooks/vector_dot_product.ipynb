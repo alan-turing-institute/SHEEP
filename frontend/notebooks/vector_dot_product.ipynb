{
 "cells": [
  {
   "cell_type": "markdown",
   "metadata": {},
   "source": [
    "## Using SIMD operations and \"rotate\" gate to perform vector dot product\n",
    "\n",
    "A powerful feature of some HE schemes is the ability to perform SIMD operations, doing the same calculation on multiple \"slots\" (i.e. elements of a vector).  The first part of a vector dot product - the component-wise multiplication - is therefore trivial.  However, we then need to sum over the elements to obtain the scalar product.  This can be done using ROTATE and ADD operations, as demonstrated in this notebook."
   ]
  },
  {
   "cell_type": "code",
   "execution_count": 1,
   "metadata": {},
   "outputs": [],
   "source": [
    "import os\n",
    "if \"SHEEP_HOME\" in os.environ.keys():\n",
    "  SHEEP_HOME = os.environ[\"SHEEP_HOME\"]\n",
    "else:\n",
    "  print(\"Please set environment variable SHEEP_HOME to point to location of SHEEP/frontend\")\n",
    "import sys\n",
    "sys.path.append(SHEEP_HOME)\n",
    "\n",
    "from pysheep import sheep_client"
   ]
  },
  {
   "cell_type": "code",
   "execution_count": 2,
   "metadata": {},
   "outputs": [
    {
     "data": {
      "text/plain": [
       "{'content': '', 'status_code': 200}"
      ]
     },
     "execution_count": 2,
     "metadata": {},
     "output_type": "execute_result"
    }
   ],
   "source": [
    "sheep_client.new_job()"
   ]
  },
  {
   "cell_type": "code",
   "execution_count": 3,
   "metadata": {},
   "outputs": [
    {
     "data": {
      "text/plain": [
       "{'content': {'nslots': 2048}, 'status_code': 200}"
      ]
     },
     "execution_count": 3,
     "metadata": {},
     "output_type": "execute_result"
    }
   ],
   "source": [
    "sheep_client.set_context(\"SEAL_BFV\")\n",
    "sheep_client.set_input_type(\"int8_t\")\n",
    "sheep_client.get_nslots()"
   ]
  },
  {
   "cell_type": "markdown",
   "metadata": {},
   "source": [
    "With this set of parameters, we have 4 slots available, so can do a dot product of two 4-component vectors.\n",
    "The circuit to perform this operation will be a MULTIPLY followed by a sequence of 3 ROTATEs and ADDs."
   ]
  },
  {
   "cell_type": "code",
   "execution_count": 4,
   "metadata": {},
   "outputs": [],
   "source": [
    "circuit = \"\"\"\n",
    "INPUTS input_0 input_1\n",
    "CONST_INPUTS rotate_1\n",
    "OUTPUTS output\n",
    "input_0 input_1 MULTIPLY prod_r0\n",
    "prod_r0 rotate_1 ROTATE prod_r1\n",
    "prod_r0 prod_r1 ADD prod_s1\n",
    "prod_r1 rotate_1 ROTATE prod_r2\n",
    "prod_s1 prod_r2 ADD prod_s2\n",
    "prod_r2 rotate_1 ROTATE prod_r3\n",
    "prod_s2 prod_r3 ADD output\n",
    "\"\"\""
   ]
  },
  {
   "cell_type": "code",
   "execution_count": 5,
   "metadata": {},
   "outputs": [
    {
     "data": {
      "text/plain": [
       "{'content': ['input_0', 'input_1'], 'status_code': 200}"
      ]
     },
     "execution_count": 5,
     "metadata": {},
     "output_type": "execute_result"
    }
   ],
   "source": [
    "sheep_client.set_circuit_text(circuit)\n",
    "sheep_client.get_inputs()"
   ]
  },
  {
   "cell_type": "markdown",
   "metadata": {},
   "source": [
    "So the two input vectors are called input_0 and input_1. Let's assign them the values {1,2,3,4} and {5,6,7,8}"
   ]
  },
  {
   "cell_type": "code",
   "execution_count": 6,
   "metadata": {},
   "outputs": [
    {
     "data": {
      "text/plain": [
       "{'content': '', 'status_code': 200}"
      ]
     },
     "execution_count": 6,
     "metadata": {},
     "output_type": "execute_result"
    }
   ],
   "source": [
    "sheep_client.set_inputs({\"input_0\": [1,2,3,4], \"input_1\": [5,6,7,8]})"
   ]
  },
  {
   "cell_type": "code",
   "execution_count": 7,
   "metadata": {},
   "outputs": [
    {
     "data": {
      "text/plain": [
       "{'content': ['rotate_1'], 'status_code': 200}"
      ]
     },
     "execution_count": 7,
     "metadata": {},
     "output_type": "execute_result"
    }
   ],
   "source": [
    "sheep_client.get_const_inputs()"
   ]
  },
  {
   "cell_type": "markdown",
   "metadata": {},
   "source": [
    "The circuit also takes a \"const input\" (that won't be encrypted) - this is how much we will ROTATE the vector by in each step, so just set it to -1"
   ]
  },
  {
   "cell_type": "code",
   "execution_count": 8,
   "metadata": {},
   "outputs": [
    {
     "data": {
      "text/plain": [
       "{'content': '', 'status_code': 200}"
      ]
     },
     "execution_count": 8,
     "metadata": {},
     "output_type": "execute_result"
    }
   ],
   "source": [
    "sheep_client.set_const_inputs({\"rotate_1\": -1})"
   ]
  },
  {
   "cell_type": "code",
   "execution_count": 9,
   "metadata": {},
   "outputs": [
    {
     "data": {
      "text/plain": [
       "{'content': '', 'status_code': 200}"
      ]
     },
     "execution_count": 9,
     "metadata": {},
     "output_type": "execute_result"
    }
   ],
   "source": [
    "sheep_client.run_job()"
   ]
  },
  {
   "cell_type": "code",
   "execution_count": 10,
   "metadata": {},
   "outputs": [
    {
     "data": {
      "text/plain": [
       "{'content': {'cleartext check': {'is_correct': True},\n",
       "  'outputs': {'output': ['70,70,70,70']},\n",
       "  'timings': {'decryption': '526.000000',\n",
       "   'encryption': '1878.600000',\n",
       "   'evaluation': '9464.500000',\n",
       "   'output': '121.800000',\n",
       "   'prod_r0': '122.000000',\n",
       "   'prod_r1': '6231.900000',\n",
       "   'prod_r2': '876.500000',\n",
       "   'prod_r3': '155.900000',\n",
       "   'prod_s1': '801.700000',\n",
       "   'prod_s2': '789.000000'}},\n",
       " 'status_code': 200}"
      ]
     },
     "execution_count": 10,
     "metadata": {},
     "output_type": "execute_result"
    }
   ],
   "source": [
    "sheep_client.get_results()"
   ]
  },
  {
   "cell_type": "markdown",
   "metadata": {},
   "source": [
    "So, the output is '70,70,70,70' (we always get an output vector the same length as our input vector, even though in this case we only need one number), and 70 is indeed the scalar product of {1,2,3,4} and {5,6,7,8}.  \n"
   ]
  },
  {
   "cell_type": "markdown",
   "metadata": {},
   "source": [
    "## Generalizing, and generating circuits\n",
    "\n",
    "We probably don't want to write circuits by hand, particularly if we are dealing with long vectors (HElib and SEAL_BFV can, depending on parameter choices, offer thousands of slots).   We can write a simple python function to generate circuits for arbitrary length vectors:"
   ]
  },
  {
   "cell_type": "code",
   "execution_count": 11,
   "metadata": {},
   "outputs": [],
   "source": [
    "def generate_vector_dot_product_circuit(input_0, input_1):\n",
    "    \"\"\"\n",
    "    Given two input lists (must be equal in length) generate a SHEEP circuit to do the dot product\n",
    "    \"\"\"\n",
    "    if len(input_0) != len(input_1):\n",
    "        raise RuntimeError(\"input_0 and input_1 must be the same length\")\n",
    "    circuit_str = \"INPUTS input_0 input_1\\nCONST_INPUTS rotate_1\\nOUTPUTS output prod_s1 prod_s2 prod_s3\\ninput_0 input_1 MULTIPLY prod_r0\\n\"\n",
    "    for i in range(len(input_0)-1):\n",
    "        circuit_str += \"prod_r{} rotate_1 ROTATE prod_r{}\\n\".format(i,i+1)\n",
    "        if i==0:\n",
    "            circuit_str += \"prod_r0 prod_r1 ADD prod_s1\\n\"\n",
    "        else:\n",
    "            circuit_str += \"prod_s{} prod_r{} ADD prod_s{}\\n\".format(i,i+1,i+1)\n",
    "    circuit_str += \"prod_s{} ALIAS output\\n\".format(i+1)\n",
    "    return circuit_str"
   ]
  },
  {
   "cell_type": "markdown",
   "metadata": {},
   "source": [
    "(Note that this function is also available in ```pysheep/mid_level_benchmarks.py```)"
   ]
  },
  {
   "cell_type": "markdown",
   "metadata": {},
   "source": [
    "So, let's do a longer calculation in SEAL_BFV - multiply 2 vectors with 100 elements each, where each element is a random number between -10 and 10"
   ]
  },
  {
   "cell_type": "code",
   "execution_count": 12,
   "metadata": {},
   "outputs": [],
   "source": [
    "import random\n",
    "input_0 = []\n",
    "input_1 = []\n",
    "for i in range(1000):\n",
    "    input_0.append(random.randint(-10,10))\n",
    "    input_1.append(random.randint(-10,10))"
   ]
  },
  {
   "cell_type": "markdown",
   "metadata": {},
   "source": [
    "Lets quickly do the calculation in the clear so we know what answer to expect:"
   ]
  },
  {
   "cell_type": "code",
   "execution_count": 13,
   "metadata": {},
   "outputs": [
    {
     "data": {
      "text/plain": [
       "162"
      ]
     },
     "execution_count": 13,
     "metadata": {},
     "output_type": "execute_result"
    }
   ],
   "source": [
    "sum = 0\n",
    "for i in range(len(input_0)):\n",
    "    sum += input_0[i]*input_1[i]\n",
    "sum"
   ]
  },
  {
   "cell_type": "code",
   "execution_count": 14,
   "metadata": {},
   "outputs": [
    {
     "data": {
      "text/plain": [
       "{'content': '', 'status_code': 200}"
      ]
     },
     "execution_count": 14,
     "metadata": {},
     "output_type": "execute_result"
    }
   ],
   "source": [
    "sheep_client.new_job()"
   ]
  },
  {
   "cell_type": "code",
   "execution_count": 15,
   "metadata": {},
   "outputs": [
    {
     "data": {
      "text/plain": [
       "{'content': '', 'status_code': 200}"
      ]
     },
     "execution_count": 15,
     "metadata": {},
     "output_type": "execute_result"
    }
   ],
   "source": [
    "sheep_client.set_context(\"SEAL_BFV\")"
   ]
  },
  {
   "cell_type": "code",
   "execution_count": 16,
   "metadata": {},
   "outputs": [
    {
     "data": {
      "text/plain": [
       "{'content': '', 'status_code': 200}"
      ]
     },
     "execution_count": 16,
     "metadata": {},
     "output_type": "execute_result"
    }
   ],
   "source": [
    "sheep_client.set_input_type(\"int16_t\")"
   ]
  },
  {
   "cell_type": "code",
   "execution_count": 17,
   "metadata": {},
   "outputs": [
    {
     "data": {
      "text/plain": [
       "{'content': {'nslots': 2048}, 'status_code': 200}"
      ]
     },
     "execution_count": 17,
     "metadata": {},
     "output_type": "execute_result"
    }
   ],
   "source": [
    "sheep_client.get_nslots()"
   ]
  },
  {
   "cell_type": "code",
   "execution_count": 18,
   "metadata": {},
   "outputs": [
    {
     "data": {
      "text/plain": [
       "{'content': '', 'status_code': 200}"
      ]
     },
     "execution_count": 18,
     "metadata": {},
     "output_type": "execute_result"
    }
   ],
   "source": [
    "circuit = generate_vector_dot_product_circuit(input_0,input_1)\n",
    "sheep_client.set_circuit_text(circuit)"
   ]
  },
  {
   "cell_type": "code",
   "execution_count": 19,
   "metadata": {},
   "outputs": [
    {
     "data": {
      "text/plain": [
       "{'content': '', 'status_code': 200}"
      ]
     },
     "execution_count": 19,
     "metadata": {},
     "output_type": "execute_result"
    }
   ],
   "source": [
    "sheep_client.set_inputs({\"input_0\":input_0, \"input_1\": input_1})"
   ]
  },
  {
   "cell_type": "code",
   "execution_count": 20,
   "metadata": {},
   "outputs": [
    {
     "data": {
      "text/plain": [
       "{'content': '', 'status_code': 200}"
      ]
     },
     "execution_count": 20,
     "metadata": {},
     "output_type": "execute_result"
    }
   ],
   "source": [
    "sheep_client.set_const_inputs({\"rotate_1\": -1})"
   ]
  },
  {
   "cell_type": "code",
   "execution_count": 21,
   "metadata": {},
   "outputs": [
    {
     "data": {
      "text/plain": [
       "{'content': '', 'status_code': 200}"
      ]
     },
     "execution_count": 21,
     "metadata": {},
     "output_type": "execute_result"
    }
   ],
   "source": [
    "sheep_client.set_timeout(60)"
   ]
  },
  {
   "cell_type": "code",
   "execution_count": 22,
   "metadata": {},
   "outputs": [
    {
     "data": {
      "text/plain": [
       "{'content': '', 'status_code': 200}"
      ]
     },
     "execution_count": 22,
     "metadata": {},
     "output_type": "execute_result"
    }
   ],
   "source": [
    "sheep_client.run_job()"
   ]
  },
  {
   "cell_type": "code",
   "execution_count": 24,
   "metadata": {},
   "outputs": [
    {
     "data": {
      "text/plain": [
       "True"
      ]
     },
     "execution_count": 24,
     "metadata": {},
     "output_type": "execute_result"
    }
   ],
   "source": [
    "sheep_client.get_results()['content'][\"cleartext check\"][\"is_correct\"]"
   ]
  },
  {
   "cell_type": "code",
   "execution_count": 27,
   "metadata": {},
   "outputs": [
    {
     "data": {
      "text/plain": [
       "'162'"
      ]
     },
     "execution_count": 27,
     "metadata": {},
     "output_type": "execute_result"
    }
   ],
   "source": [
    "sheep_client.get_results()['content'][\"outputs\"][\"output\"][0].split(\",\")[0]"
   ]
  },
  {
   "cell_type": "markdown",
   "metadata": {},
   "source": [
    "So we get the right answer!"
   ]
  },
  {
   "cell_type": "code",
   "execution_count": 30,
   "metadata": {},
   "outputs": [
    {
     "data": {
      "text/plain": [
       "'1014665.600000'"
      ]
     },
     "execution_count": 30,
     "metadata": {},
     "output_type": "execute_result"
    }
   ],
   "source": [
    "sheep_client.get_results()[\"content\"][\"timings\"][\"evaluation\"]"
   ]
  },
  {
   "cell_type": "code",
   "execution_count": null,
   "metadata": {},
   "outputs": [],
   "source": []
  }
 ],
 "metadata": {
  "kernelspec": {
   "display_name": "Python 3",
   "language": "python",
   "name": "python3"
  },
  "language_info": {
   "codemirror_mode": {
    "name": "ipython",
    "version": 3
   },
   "file_extension": ".py",
   "mimetype": "text/x-python",
   "name": "python",
   "nbconvert_exporter": "python",
   "pygments_lexer": "ipython3",
   "version": "3.5.2"
  }
 },
 "nbformat": 4,
 "nbformat_minor": 2
}
